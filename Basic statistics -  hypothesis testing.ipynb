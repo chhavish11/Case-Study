{
 "cells": [
  {
   "cell_type": "code",
   "execution_count": 1,
   "id": "c2017925",
   "metadata": {},
   "outputs": [],
   "source": [
    "import numpy as np\n",
    "import pandas as pd\n",
    "import scipy.stats as stats \n",
    "import seaborn as sns\n",
    "import matplotlib.pyplot as plt"
   ]
  },
  {
   "cell_type": "code",
   "execution_count": 7,
   "id": "e4f97a63",
   "metadata": {},
   "outputs": [
    {
     "data": {
      "text/html": [
       "<div>\n",
       "<style scoped>\n",
       "    .dataframe tbody tr th:only-of-type {\n",
       "        vertical-align: middle;\n",
       "    }\n",
       "\n",
       "    .dataframe tbody tr th {\n",
       "        vertical-align: top;\n",
       "    }\n",
       "\n",
       "    .dataframe thead th {\n",
       "        text-align: right;\n",
       "    }\n",
       "</style>\n",
       "<table border=\"1\" class=\"dataframe\">\n",
       "  <thead>\n",
       "    <tr style=\"text-align: right;\">\n",
       "      <th></th>\n",
       "      <th>Amount.Requested</th>\n",
       "      <th>Amount.Funded.By.Investors</th>\n",
       "      <th>Interest.Rate</th>\n",
       "      <th>Loan.Length</th>\n",
       "      <th>Loan.Purpose</th>\n",
       "      <th>Debt.To.Income.Ratio</th>\n",
       "      <th>State</th>\n",
       "      <th>Home.Ownership</th>\n",
       "      <th>Monthly.Income</th>\n",
       "      <th>FICO.Range</th>\n",
       "      <th>Open.CREDIT.Lines</th>\n",
       "      <th>Revolving.CREDIT.Balance</th>\n",
       "      <th>Inquiries.in.the.Last.6.Months</th>\n",
       "      <th>Employment.Length</th>\n",
       "    </tr>\n",
       "  </thead>\n",
       "  <tbody>\n",
       "    <tr>\n",
       "      <th>0</th>\n",
       "      <td>20000.0</td>\n",
       "      <td>20000.0</td>\n",
       "      <td>8.90%</td>\n",
       "      <td>36 months</td>\n",
       "      <td>debt_consolidation</td>\n",
       "      <td>14.90%</td>\n",
       "      <td>SC</td>\n",
       "      <td>MORTGAGE</td>\n",
       "      <td>6541.67</td>\n",
       "      <td>735-739</td>\n",
       "      <td>14.0</td>\n",
       "      <td>14272.0</td>\n",
       "      <td>2.0</td>\n",
       "      <td>&lt; 1 year</td>\n",
       "    </tr>\n",
       "    <tr>\n",
       "      <th>1</th>\n",
       "      <td>19200.0</td>\n",
       "      <td>19200.0</td>\n",
       "      <td>12.12%</td>\n",
       "      <td>36 months</td>\n",
       "      <td>debt_consolidation</td>\n",
       "      <td>28.36%</td>\n",
       "      <td>TX</td>\n",
       "      <td>MORTGAGE</td>\n",
       "      <td>4583.33</td>\n",
       "      <td>715-719</td>\n",
       "      <td>12.0</td>\n",
       "      <td>11140.0</td>\n",
       "      <td>1.0</td>\n",
       "      <td>2 years</td>\n",
       "    </tr>\n",
       "    <tr>\n",
       "      <th>2</th>\n",
       "      <td>35000.0</td>\n",
       "      <td>35000.0</td>\n",
       "      <td>21.98%</td>\n",
       "      <td>60 months</td>\n",
       "      <td>debt_consolidation</td>\n",
       "      <td>23.81%</td>\n",
       "      <td>CA</td>\n",
       "      <td>MORTGAGE</td>\n",
       "      <td>11500.00</td>\n",
       "      <td>690-694</td>\n",
       "      <td>14.0</td>\n",
       "      <td>21977.0</td>\n",
       "      <td>1.0</td>\n",
       "      <td>2 years</td>\n",
       "    </tr>\n",
       "    <tr>\n",
       "      <th>3</th>\n",
       "      <td>10000.0</td>\n",
       "      <td>9975.0</td>\n",
       "      <td>9.99%</td>\n",
       "      <td>36 months</td>\n",
       "      <td>debt_consolidation</td>\n",
       "      <td>14.30%</td>\n",
       "      <td>KS</td>\n",
       "      <td>MORTGAGE</td>\n",
       "      <td>3833.33</td>\n",
       "      <td>695-699</td>\n",
       "      <td>10.0</td>\n",
       "      <td>9346.0</td>\n",
       "      <td>0.0</td>\n",
       "      <td>5 years</td>\n",
       "    </tr>\n",
       "    <tr>\n",
       "      <th>4</th>\n",
       "      <td>12000.0</td>\n",
       "      <td>12000.0</td>\n",
       "      <td>11.71%</td>\n",
       "      <td>36 months</td>\n",
       "      <td>credit_card</td>\n",
       "      <td>18.78%</td>\n",
       "      <td>NJ</td>\n",
       "      <td>RENT</td>\n",
       "      <td>3195.00</td>\n",
       "      <td>695-699</td>\n",
       "      <td>11.0</td>\n",
       "      <td>14469.0</td>\n",
       "      <td>0.0</td>\n",
       "      <td>9 years</td>\n",
       "    </tr>\n",
       "  </tbody>\n",
       "</table>\n",
       "</div>"
      ],
      "text/plain": [
       "   Amount.Requested  Amount.Funded.By.Investors Interest.Rate Loan.Length  \\\n",
       "0           20000.0                     20000.0         8.90%   36 months   \n",
       "1           19200.0                     19200.0        12.12%   36 months   \n",
       "2           35000.0                     35000.0        21.98%   60 months   \n",
       "3           10000.0                      9975.0         9.99%   36 months   \n",
       "4           12000.0                     12000.0        11.71%   36 months   \n",
       "\n",
       "         Loan.Purpose Debt.To.Income.Ratio State Home.Ownership  \\\n",
       "0  debt_consolidation               14.90%    SC       MORTGAGE   \n",
       "1  debt_consolidation               28.36%    TX       MORTGAGE   \n",
       "2  debt_consolidation               23.81%    CA       MORTGAGE   \n",
       "3  debt_consolidation               14.30%    KS       MORTGAGE   \n",
       "4         credit_card               18.78%    NJ           RENT   \n",
       "\n",
       "   Monthly.Income FICO.Range  Open.CREDIT.Lines  Revolving.CREDIT.Balance  \\\n",
       "0         6541.67    735-739               14.0                   14272.0   \n",
       "1         4583.33    715-719               12.0                   11140.0   \n",
       "2        11500.00    690-694               14.0                   21977.0   \n",
       "3         3833.33    695-699               10.0                    9346.0   \n",
       "4         3195.00    695-699               11.0                   14469.0   \n",
       "\n",
       "   Inquiries.in.the.Last.6.Months Employment.Length  \n",
       "0                             2.0          < 1 year  \n",
       "1                             1.0           2 years  \n",
       "2                             1.0           2 years  \n",
       "3                             0.0           5 years  \n",
       "4                             0.0           9 years  "
      ]
     },
     "execution_count": 7,
     "metadata": {},
     "output_type": "execute_result"
    }
   ],
   "source": [
    "Loans_data = pd.read_csv(r\"C:\\Users\\ADMIN\\Downloads\\Basic Statistics - Hypothesis Testing (1)\\LoansData.csv\")\n",
    "Loans_data.head()"
   ]
  },
  {
   "cell_type": "code",
   "execution_count": 8,
   "id": "b42c18fd",
   "metadata": {},
   "outputs": [
    {
     "data": {
      "text/plain": [
       "Amount.Requested                  float64\n",
       "Amount.Funded.By.Investors        float64\n",
       "Interest.Rate                      object\n",
       "Loan.Length                        object\n",
       "Loan.Purpose                       object\n",
       "Debt.To.Income.Ratio               object\n",
       "State                              object\n",
       "Home.Ownership                     object\n",
       "Monthly.Income                    float64\n",
       "FICO.Range                         object\n",
       "Open.CREDIT.Lines                 float64\n",
       "Revolving.CREDIT.Balance          float64\n",
       "Inquiries.in.the.Last.6.Months    float64\n",
       "Employment.Length                  object\n",
       "dtype: object"
      ]
     },
     "execution_count": 8,
     "metadata": {},
     "output_type": "execute_result"
    }
   ],
   "source": [
    "Loans_data.dtypes"
   ]
  },
  {
   "cell_type": "code",
   "execution_count": 10,
   "id": "ff57ed66",
   "metadata": {
    "scrolled": true
   },
   "outputs": [
    {
     "data": {
      "text/plain": [
       "Amount.Requested                   1\n",
       "Amount.Funded.By.Investors         1\n",
       "Interest.Rate                      2\n",
       "Loan.Length                        0\n",
       "Loan.Purpose                       0\n",
       "Debt.To.Income.Ratio               1\n",
       "State                              0\n",
       "Home.Ownership                     1\n",
       "Monthly.Income                     1\n",
       "FICO.Range                         2\n",
       "Open.CREDIT.Lines                  3\n",
       "Revolving.CREDIT.Balance           3\n",
       "Inquiries.in.the.Last.6.Months     3\n",
       "Employment.Length                 77\n",
       "dtype: int64"
      ]
     },
     "execution_count": 10,
     "metadata": {},
     "output_type": "execute_result"
    }
   ],
   "source": [
    "Loans_data.isnull().sum()"
   ]
  },
  {
   "cell_type": "code",
   "execution_count": 12,
   "id": "fba29a8d",
   "metadata": {},
   "outputs": [
    {
     "data": {
      "text/plain": [
       "0"
      ]
     },
     "execution_count": 12,
     "metadata": {},
     "output_type": "execute_result"
    }
   ],
   "source": [
    "Loans_data.duplicated().sum()"
   ]
  },
  {
   "cell_type": "code",
   "execution_count": 13,
   "id": "81aad443",
   "metadata": {},
   "outputs": [
    {
     "data": {
      "text/plain": [
       "Amount.Requested                   380\n",
       "Amount.Funded.By.Investors         710\n",
       "Interest.Rate                      275\n",
       "Loan.Length                          2\n",
       "Loan.Purpose                        14\n",
       "Debt.To.Income.Ratio              1669\n",
       "State                               46\n",
       "Home.Ownership                       5\n",
       "Monthly.Income                     632\n",
       "FICO.Range                          38\n",
       "Open.CREDIT.Lines                   29\n",
       "Revolving.CREDIT.Balance          2349\n",
       "Inquiries.in.the.Last.6.Months      10\n",
       "Employment.Length                   11\n",
       "dtype: int64"
      ]
     },
     "execution_count": 13,
     "metadata": {},
     "output_type": "execute_result"
    }
   ],
   "source": [
    "Loans_data.nunique()"
   ]
  },
  {
   "cell_type": "code",
   "execution_count": 14,
   "id": "94d18ad1",
   "metadata": {},
   "outputs": [],
   "source": [
    "Loans_data['Interest.Rate']=Loans_data['Interest.Rate'].str.replace('%','')\n",
    "Loans_data['Interest.Rate']=Loans_data['Interest.Rate'].astype('float64')"
   ]
  },
  {
   "cell_type": "code",
   "execution_count": 15,
   "id": "3866b705",
   "metadata": {},
   "outputs": [
    {
     "name": "stdout",
     "output_type": "stream",
     "text": [
      "<class 'pandas.core.frame.DataFrame'>\n",
      "RangeIndex: 2500 entries, 0 to 2499\n",
      "Data columns (total 14 columns):\n",
      " #   Column                          Non-Null Count  Dtype  \n",
      "---  ------                          --------------  -----  \n",
      " 0   Amount.Requested                2499 non-null   float64\n",
      " 1   Amount.Funded.By.Investors      2499 non-null   float64\n",
      " 2   Interest.Rate                   2498 non-null   float64\n",
      " 3   Loan.Length                     2500 non-null   object \n",
      " 4   Loan.Purpose                    2500 non-null   object \n",
      " 5   Debt.To.Income.Ratio            2499 non-null   object \n",
      " 6   State                           2500 non-null   object \n",
      " 7   Home.Ownership                  2499 non-null   object \n",
      " 8   Monthly.Income                  2499 non-null   float64\n",
      " 9   FICO.Range                      2498 non-null   object \n",
      " 10  Open.CREDIT.Lines               2497 non-null   float64\n",
      " 11  Revolving.CREDIT.Balance        2497 non-null   float64\n",
      " 12  Inquiries.in.the.Last.6.Months  2497 non-null   float64\n",
      " 13  Employment.Length               2423 non-null   object \n",
      "dtypes: float64(7), object(7)\n",
      "memory usage: 273.6+ KB\n"
     ]
    }
   ],
   "source": [
    "Loans_data.info()"
   ]
  },
  {
   "cell_type": "code",
   "execution_count": 18,
   "id": "fb770c46",
   "metadata": {},
   "outputs": [
    {
     "data": {
      "text/html": [
       "<div>\n",
       "<style scoped>\n",
       "    .dataframe tbody tr th:only-of-type {\n",
       "        vertical-align: middle;\n",
       "    }\n",
       "\n",
       "    .dataframe tbody tr th {\n",
       "        vertical-align: top;\n",
       "    }\n",
       "\n",
       "    .dataframe thead th {\n",
       "        text-align: right;\n",
       "    }\n",
       "</style>\n",
       "<table border=\"1\" class=\"dataframe\">\n",
       "  <thead>\n",
       "    <tr style=\"text-align: right;\">\n",
       "      <th></th>\n",
       "      <th>Amount.Requested</th>\n",
       "      <th>Amount.Funded.By.Investors</th>\n",
       "      <th>Interest.Rate</th>\n",
       "      <th>Loan.Length</th>\n",
       "      <th>Loan.Purpose</th>\n",
       "      <th>Debt.To.Income.Ratio</th>\n",
       "      <th>State</th>\n",
       "      <th>Home.Ownership</th>\n",
       "      <th>Monthly.Income</th>\n",
       "      <th>Open.CREDIT.Lines</th>\n",
       "      <th>Revolving.CREDIT.Balance</th>\n",
       "      <th>Inquiries.in.the.Last.6.Months</th>\n",
       "      <th>Employment.Length</th>\n",
       "    </tr>\n",
       "    <tr>\n",
       "      <th>FICO.Range</th>\n",
       "      <th></th>\n",
       "      <th></th>\n",
       "      <th></th>\n",
       "      <th></th>\n",
       "      <th></th>\n",
       "      <th></th>\n",
       "      <th></th>\n",
       "      <th></th>\n",
       "      <th></th>\n",
       "      <th></th>\n",
       "      <th></th>\n",
       "      <th></th>\n",
       "      <th></th>\n",
       "    </tr>\n",
       "  </thead>\n",
       "  <tbody>\n",
       "    <tr>\n",
       "      <th>640-644</th>\n",
       "      <td>5</td>\n",
       "      <td>5</td>\n",
       "      <td>5</td>\n",
       "      <td>5</td>\n",
       "      <td>5</td>\n",
       "      <td>5</td>\n",
       "      <td>5</td>\n",
       "      <td>5</td>\n",
       "      <td>5</td>\n",
       "      <td>5</td>\n",
       "      <td>5</td>\n",
       "      <td>5</td>\n",
       "      <td>5</td>\n",
       "    </tr>\n",
       "    <tr>\n",
       "      <th>645-649</th>\n",
       "      <td>3</td>\n",
       "      <td>3</td>\n",
       "      <td>3</td>\n",
       "      <td>3</td>\n",
       "      <td>3</td>\n",
       "      <td>3</td>\n",
       "      <td>3</td>\n",
       "      <td>3</td>\n",
       "      <td>3</td>\n",
       "      <td>3</td>\n",
       "      <td>3</td>\n",
       "      <td>3</td>\n",
       "      <td>3</td>\n",
       "    </tr>\n",
       "    <tr>\n",
       "      <th>650-654</th>\n",
       "      <td>1</td>\n",
       "      <td>1</td>\n",
       "      <td>1</td>\n",
       "      <td>1</td>\n",
       "      <td>1</td>\n",
       "      <td>1</td>\n",
       "      <td>1</td>\n",
       "      <td>1</td>\n",
       "      <td>1</td>\n",
       "      <td>1</td>\n",
       "      <td>1</td>\n",
       "      <td>1</td>\n",
       "      <td>1</td>\n",
       "    </tr>\n",
       "    <tr>\n",
       "      <th>655-659</th>\n",
       "      <td>4</td>\n",
       "      <td>4</td>\n",
       "      <td>4</td>\n",
       "      <td>4</td>\n",
       "      <td>4</td>\n",
       "      <td>4</td>\n",
       "      <td>4</td>\n",
       "      <td>4</td>\n",
       "      <td>4</td>\n",
       "      <td>4</td>\n",
       "      <td>4</td>\n",
       "      <td>4</td>\n",
       "      <td>4</td>\n",
       "    </tr>\n",
       "    <tr>\n",
       "      <th>660-664</th>\n",
       "      <td>124</td>\n",
       "      <td>125</td>\n",
       "      <td>124</td>\n",
       "      <td>125</td>\n",
       "      <td>125</td>\n",
       "      <td>125</td>\n",
       "      <td>125</td>\n",
       "      <td>125</td>\n",
       "      <td>125</td>\n",
       "      <td>125</td>\n",
       "      <td>125</td>\n",
       "      <td>125</td>\n",
       "      <td>119</td>\n",
       "    </tr>\n",
       "    <tr>\n",
       "      <th>665-669</th>\n",
       "      <td>145</td>\n",
       "      <td>145</td>\n",
       "      <td>145</td>\n",
       "      <td>145</td>\n",
       "      <td>145</td>\n",
       "      <td>145</td>\n",
       "      <td>145</td>\n",
       "      <td>145</td>\n",
       "      <td>145</td>\n",
       "      <td>145</td>\n",
       "      <td>145</td>\n",
       "      <td>145</td>\n",
       "      <td>138</td>\n",
       "    </tr>\n",
       "    <tr>\n",
       "      <th>670-674</th>\n",
       "      <td>171</td>\n",
       "      <td>171</td>\n",
       "      <td>171</td>\n",
       "      <td>171</td>\n",
       "      <td>171</td>\n",
       "      <td>171</td>\n",
       "      <td>171</td>\n",
       "      <td>171</td>\n",
       "      <td>171</td>\n",
       "      <td>170</td>\n",
       "      <td>171</td>\n",
       "      <td>171</td>\n",
       "      <td>168</td>\n",
       "    </tr>\n",
       "    <tr>\n",
       "      <th>675-679</th>\n",
       "      <td>166</td>\n",
       "      <td>166</td>\n",
       "      <td>166</td>\n",
       "      <td>166</td>\n",
       "      <td>166</td>\n",
       "      <td>166</td>\n",
       "      <td>166</td>\n",
       "      <td>166</td>\n",
       "      <td>166</td>\n",
       "      <td>166</td>\n",
       "      <td>166</td>\n",
       "      <td>166</td>\n",
       "      <td>161</td>\n",
       "    </tr>\n",
       "    <tr>\n",
       "      <th>680-684</th>\n",
       "      <td>157</td>\n",
       "      <td>157</td>\n",
       "      <td>157</td>\n",
       "      <td>157</td>\n",
       "      <td>157</td>\n",
       "      <td>157</td>\n",
       "      <td>157</td>\n",
       "      <td>157</td>\n",
       "      <td>157</td>\n",
       "      <td>157</td>\n",
       "      <td>157</td>\n",
       "      <td>157</td>\n",
       "      <td>157</td>\n",
       "    </tr>\n",
       "    <tr>\n",
       "      <th>685-689</th>\n",
       "      <td>136</td>\n",
       "      <td>136</td>\n",
       "      <td>136</td>\n",
       "      <td>136</td>\n",
       "      <td>136</td>\n",
       "      <td>136</td>\n",
       "      <td>136</td>\n",
       "      <td>136</td>\n",
       "      <td>136</td>\n",
       "      <td>135</td>\n",
       "      <td>135</td>\n",
       "      <td>135</td>\n",
       "      <td>129</td>\n",
       "    </tr>\n",
       "  </tbody>\n",
       "</table>\n",
       "</div>"
      ],
      "text/plain": [
       "            Amount.Requested  Amount.Funded.By.Investors  Interest.Rate  \\\n",
       "FICO.Range                                                                \n",
       "640-644                    5                           5              5   \n",
       "645-649                    3                           3              3   \n",
       "650-654                    1                           1              1   \n",
       "655-659                    4                           4              4   \n",
       "660-664                  124                         125            124   \n",
       "665-669                  145                         145            145   \n",
       "670-674                  171                         171            171   \n",
       "675-679                  166                         166            166   \n",
       "680-684                  157                         157            157   \n",
       "685-689                  136                         136            136   \n",
       "\n",
       "            Loan.Length  Loan.Purpose  Debt.To.Income.Ratio  State  \\\n",
       "FICO.Range                                                           \n",
       "640-644               5             5                     5      5   \n",
       "645-649               3             3                     3      3   \n",
       "650-654               1             1                     1      1   \n",
       "655-659               4             4                     4      4   \n",
       "660-664             125           125                   125    125   \n",
       "665-669             145           145                   145    145   \n",
       "670-674             171           171                   171    171   \n",
       "675-679             166           166                   166    166   \n",
       "680-684             157           157                   157    157   \n",
       "685-689             136           136                   136    136   \n",
       "\n",
       "            Home.Ownership  Monthly.Income  Open.CREDIT.Lines  \\\n",
       "FICO.Range                                                      \n",
       "640-644                  5               5                  5   \n",
       "645-649                  3               3                  3   \n",
       "650-654                  1               1                  1   \n",
       "655-659                  4               4                  4   \n",
       "660-664                125             125                125   \n",
       "665-669                145             145                145   \n",
       "670-674                171             171                170   \n",
       "675-679                166             166                166   \n",
       "680-684                157             157                157   \n",
       "685-689                136             136                135   \n",
       "\n",
       "            Revolving.CREDIT.Balance  Inquiries.in.the.Last.6.Months  \\\n",
       "FICO.Range                                                             \n",
       "640-644                            5                               5   \n",
       "645-649                            3                               3   \n",
       "650-654                            1                               1   \n",
       "655-659                            4                               4   \n",
       "660-664                          125                             125   \n",
       "665-669                          145                             145   \n",
       "670-674                          171                             171   \n",
       "675-679                          166                             166   \n",
       "680-684                          157                             157   \n",
       "685-689                          135                             135   \n",
       "\n",
       "            Employment.Length  \n",
       "FICO.Range                     \n",
       "640-644                     5  \n",
       "645-649                     3  \n",
       "650-654                     1  \n",
       "655-659                     4  \n",
       "660-664                   119  \n",
       "665-669                   138  \n",
       "670-674                   168  \n",
       "675-679                   161  \n",
       "680-684                   157  \n",
       "685-689                   129  "
      ]
     },
     "execution_count": 18,
     "metadata": {},
     "output_type": "execute_result"
    }
   ],
   "source": [
    "Loans_data.groupby(\"FICO.Range\").count().head(10)"
   ]
  },
  {
   "cell_type": "code",
   "execution_count": 19,
   "id": "924a5d9f",
   "metadata": {},
   "outputs": [
    {
     "data": {
      "text/html": [
       "<div>\n",
       "<style scoped>\n",
       "    .dataframe tbody tr th:only-of-type {\n",
       "        vertical-align: middle;\n",
       "    }\n",
       "\n",
       "    .dataframe tbody tr th {\n",
       "        vertical-align: top;\n",
       "    }\n",
       "\n",
       "    .dataframe thead th {\n",
       "        text-align: right;\n",
       "    }\n",
       "</style>\n",
       "<table border=\"1\" class=\"dataframe\">\n",
       "  <thead>\n",
       "    <tr style=\"text-align: right;\">\n",
       "      <th></th>\n",
       "      <th>Amount.Requested</th>\n",
       "      <th>Amount.Funded.By.Investors</th>\n",
       "      <th>Interest.Rate</th>\n",
       "      <th>Loan.Length</th>\n",
       "      <th>Loan.Purpose</th>\n",
       "      <th>Debt.To.Income.Ratio</th>\n",
       "      <th>State</th>\n",
       "      <th>Monthly.Income</th>\n",
       "      <th>FICO.Range</th>\n",
       "      <th>Open.CREDIT.Lines</th>\n",
       "      <th>Revolving.CREDIT.Balance</th>\n",
       "      <th>Inquiries.in.the.Last.6.Months</th>\n",
       "      <th>Employment.Length</th>\n",
       "    </tr>\n",
       "    <tr>\n",
       "      <th>Home.Ownership</th>\n",
       "      <th></th>\n",
       "      <th></th>\n",
       "      <th></th>\n",
       "      <th></th>\n",
       "      <th></th>\n",
       "      <th></th>\n",
       "      <th></th>\n",
       "      <th></th>\n",
       "      <th></th>\n",
       "      <th></th>\n",
       "      <th></th>\n",
       "      <th></th>\n",
       "      <th></th>\n",
       "    </tr>\n",
       "  </thead>\n",
       "  <tbody>\n",
       "    <tr>\n",
       "      <th>MORTGAGE</th>\n",
       "      <td>1147</td>\n",
       "      <td>1147</td>\n",
       "      <td>1146</td>\n",
       "      <td>1147</td>\n",
       "      <td>1147</td>\n",
       "      <td>1147</td>\n",
       "      <td>1147</td>\n",
       "      <td>1147</td>\n",
       "      <td>1146</td>\n",
       "      <td>1147</td>\n",
       "      <td>1146</td>\n",
       "      <td>1147</td>\n",
       "      <td>1112</td>\n",
       "    </tr>\n",
       "    <tr>\n",
       "      <th>NONE</th>\n",
       "      <td>1</td>\n",
       "      <td>1</td>\n",
       "      <td>1</td>\n",
       "      <td>1</td>\n",
       "      <td>1</td>\n",
       "      <td>1</td>\n",
       "      <td>1</td>\n",
       "      <td>0</td>\n",
       "      <td>1</td>\n",
       "      <td>0</td>\n",
       "      <td>0</td>\n",
       "      <td>0</td>\n",
       "      <td>1</td>\n",
       "    </tr>\n",
       "    <tr>\n",
       "      <th>OTHER</th>\n",
       "      <td>5</td>\n",
       "      <td>5</td>\n",
       "      <td>5</td>\n",
       "      <td>5</td>\n",
       "      <td>5</td>\n",
       "      <td>5</td>\n",
       "      <td>5</td>\n",
       "      <td>5</td>\n",
       "      <td>5</td>\n",
       "      <td>5</td>\n",
       "      <td>5</td>\n",
       "      <td>5</td>\n",
       "      <td>5</td>\n",
       "    </tr>\n",
       "    <tr>\n",
       "      <th>OWN</th>\n",
       "      <td>200</td>\n",
       "      <td>200</td>\n",
       "      <td>200</td>\n",
       "      <td>200</td>\n",
       "      <td>200</td>\n",
       "      <td>200</td>\n",
       "      <td>200</td>\n",
       "      <td>200</td>\n",
       "      <td>200</td>\n",
       "      <td>200</td>\n",
       "      <td>200</td>\n",
       "      <td>200</td>\n",
       "      <td>189</td>\n",
       "    </tr>\n",
       "    <tr>\n",
       "      <th>RENT</th>\n",
       "      <td>1145</td>\n",
       "      <td>1145</td>\n",
       "      <td>1145</td>\n",
       "      <td>1146</td>\n",
       "      <td>1146</td>\n",
       "      <td>1146</td>\n",
       "      <td>1146</td>\n",
       "      <td>1146</td>\n",
       "      <td>1145</td>\n",
       "      <td>1144</td>\n",
       "      <td>1145</td>\n",
       "      <td>1144</td>\n",
       "      <td>1115</td>\n",
       "    </tr>\n",
       "  </tbody>\n",
       "</table>\n",
       "</div>"
      ],
      "text/plain": [
       "                Amount.Requested  Amount.Funded.By.Investors  Interest.Rate  \\\n",
       "Home.Ownership                                                                \n",
       "MORTGAGE                    1147                        1147           1146   \n",
       "NONE                           1                           1              1   \n",
       "OTHER                          5                           5              5   \n",
       "OWN                          200                         200            200   \n",
       "RENT                        1145                        1145           1145   \n",
       "\n",
       "                Loan.Length  Loan.Purpose  Debt.To.Income.Ratio  State  \\\n",
       "Home.Ownership                                                           \n",
       "MORTGAGE               1147          1147                  1147   1147   \n",
       "NONE                      1             1                     1      1   \n",
       "OTHER                     5             5                     5      5   \n",
       "OWN                     200           200                   200    200   \n",
       "RENT                   1146          1146                  1146   1146   \n",
       "\n",
       "                Monthly.Income  FICO.Range  Open.CREDIT.Lines  \\\n",
       "Home.Ownership                                                  \n",
       "MORTGAGE                  1147        1146               1147   \n",
       "NONE                         0           1                  0   \n",
       "OTHER                        5           5                  5   \n",
       "OWN                        200         200                200   \n",
       "RENT                      1146        1145               1144   \n",
       "\n",
       "                Revolving.CREDIT.Balance  Inquiries.in.the.Last.6.Months  \\\n",
       "Home.Ownership                                                             \n",
       "MORTGAGE                            1146                            1147   \n",
       "NONE                                   0                               0   \n",
       "OTHER                                  5                               5   \n",
       "OWN                                  200                             200   \n",
       "RENT                                1145                            1144   \n",
       "\n",
       "                Employment.Length  \n",
       "Home.Ownership                     \n",
       "MORTGAGE                     1112  \n",
       "NONE                            1  \n",
       "OTHER                           5  \n",
       "OWN                           189  \n",
       "RENT                         1115  "
      ]
     },
     "execution_count": 19,
     "metadata": {},
     "output_type": "execute_result"
    }
   ],
   "source": [
    "Loans_data.groupby(\"Home.Ownership\").count()"
   ]
  },
  {
   "cell_type": "code",
   "execution_count": 21,
   "id": "118c1877",
   "metadata": {},
   "outputs": [],
   "source": [
    "Loans_data['Interest.Rate'].fillna(Loans_data['Interest.Rate'].mean(), inplace=True)\n",
    "Loans_data['Amount.Requested'].fillna(Loans_data['Amount.Requested'].mean(), inplace=True)\n",
    "Loans_data['Amount.Funded.By.Investors'].fillna(Loans_data['Amount.Funded.By.Investors'].mean(), inplace=True)\n",
    "Loans_data['FICO.Range'].fillna('670-674', inplace=True)\n",
    "Loans_data['Home.Ownership'].fillna('MORTGAGE', inplace=True)"
   ]
  },
  {
   "cell_type": "markdown",
   "id": "d882f042",
   "metadata": {},
   "source": [
    "## BUSINESS PROBLEM 1:\n",
    "    Using lending club loans data, the team would like to test below hypothesis on how different\n",
    "    factors effecing each other (Hint: You may leverage hypothesis testing using statistical tests)\n",
    "    a. Interest rate is varied for different loan amounts (Less interest charged for high loan\n",
    "    amounts)\n",
    "    b. Loan length is directly effecting intrest rate.\n",
    "    c. Interest rate varies for different purpose of loans\n",
    "    d. There is relationship between FICO scores and Home Ownership. It means that, People\n",
    "    with owning home will have high FICO scores."
   ]
  },
  {
   "cell_type": "markdown",
   "id": "c13c89fa",
   "metadata": {},
   "source": [
    "#### a. Interest rate is varied for different loan amounts (Less interest charged for high loan amounts)"
   ]
  },
  {
   "cell_type": "markdown",
   "id": "82144d8f",
   "metadata": {},
   "source": [
    "Define null hypothesis - Ho:\n",
    "Ho= Interest rate does not vary for different loan amounts.(Less interest is not charged for high loan amounts)\n",
    "\n",
    "Define Alternate hypothesis - Ha:\n",
    "Ha= Interest rate is varied for different loan amounts (Less interest charged for high loan amounts).\n",
    "\n",
    "Define CI :\n",
    "CI = 95% , pvalue =0.05\n",
    "\n",
    "Perform test:\n",
    "Co-Relations (Pearson Co-efficient) as we have to find out the relationship between 2 continuous variables\n"
   ]
  },
  {
   "cell_type": "code",
   "execution_count": 23,
   "id": "237ea0b9",
   "metadata": {},
   "outputs": [
    {
     "data": {
      "text/plain": [
       "(0.33244640596656827, 1.4148683739824417e-65)"
      ]
     },
     "execution_count": 23,
     "metadata": {},
     "output_type": "execute_result"
    }
   ],
   "source": [
    "stats.pearsonr(Loans_data['Interest.Rate'],Loans_data['Amount.Requested'])"
   ]
  },
  {
   "cell_type": "markdown",
   "id": "7367c611",
   "metadata": {},
   "source": [
    "Business conclusion:\n",
    "Initial p-value= 0.05\n",
    "New p-value= 1.4148683739824417e-65\n",
    "\n",
    "New p-value < Initial p-value , Hence we will REJECT Ho (Null Hypothesis) with 95% accuracy.\n",
    "\n",
    "Therefore, Interest rate is varied for different loan amounts (Less interest charged for high loan amounts)."
   ]
  },
  {
   "cell_type": "markdown",
   "id": "db5dd2f4",
   "metadata": {},
   "source": [
    "#### b. Loan length is directly effecting intrest rate."
   ]
  },
  {
   "cell_type": "markdown",
   "id": "dfda38c9",
   "metadata": {},
   "source": [
    "Define null hypothesis - Ho: Ho= Loan length is not effecting intrest rate.\n",
    "\n",
    "Step 2. Define Alternate hypothesis - Ha: Ha= Loan length is directly effecting intrest rate..\n",
    "\n",
    "Define CI : CI = 95% , pvalue =0.05\n",
    "\n",
    "Perform test: we will perform the T-Test for two independent variable."
   ]
  },
  {
   "cell_type": "code",
   "execution_count": 34,
   "id": "ab54bb9e",
   "metadata": {},
   "outputs": [
    {
     "data": {
      "text/html": [
       "<div>\n",
       "<style scoped>\n",
       "    .dataframe tbody tr th:only-of-type {\n",
       "        vertical-align: middle;\n",
       "    }\n",
       "\n",
       "    .dataframe tbody tr th {\n",
       "        vertical-align: top;\n",
       "    }\n",
       "\n",
       "    .dataframe thead th {\n",
       "        text-align: right;\n",
       "    }\n",
       "</style>\n",
       "<table border=\"1\" class=\"dataframe\">\n",
       "  <thead>\n",
       "    <tr style=\"text-align: right;\">\n",
       "      <th></th>\n",
       "      <th>Amount.Requested</th>\n",
       "      <th>Amount.Funded.By.Investors</th>\n",
       "      <th>Interest.Rate</th>\n",
       "      <th>Loan.Purpose</th>\n",
       "      <th>Debt.To.Income.Ratio</th>\n",
       "      <th>State</th>\n",
       "      <th>Home.Ownership</th>\n",
       "      <th>Monthly.Income</th>\n",
       "      <th>FICO.Range</th>\n",
       "      <th>Open.CREDIT.Lines</th>\n",
       "      <th>Revolving.CREDIT.Balance</th>\n",
       "      <th>Inquiries.in.the.Last.6.Months</th>\n",
       "      <th>Employment.Length</th>\n",
       "    </tr>\n",
       "    <tr>\n",
       "      <th>Loan.Length</th>\n",
       "      <th></th>\n",
       "      <th></th>\n",
       "      <th></th>\n",
       "      <th></th>\n",
       "      <th></th>\n",
       "      <th></th>\n",
       "      <th></th>\n",
       "      <th></th>\n",
       "      <th></th>\n",
       "      <th></th>\n",
       "      <th></th>\n",
       "      <th></th>\n",
       "      <th></th>\n",
       "    </tr>\n",
       "  </thead>\n",
       "  <tbody>\n",
       "    <tr>\n",
       "      <th>36 months</th>\n",
       "      <td>1952</td>\n",
       "      <td>1952</td>\n",
       "      <td>1952</td>\n",
       "      <td>1952</td>\n",
       "      <td>1951</td>\n",
       "      <td>1952</td>\n",
       "      <td>1952</td>\n",
       "      <td>1951</td>\n",
       "      <td>1952</td>\n",
       "      <td>1949</td>\n",
       "      <td>1949</td>\n",
       "      <td>1949</td>\n",
       "      <td>1886</td>\n",
       "    </tr>\n",
       "    <tr>\n",
       "      <th>60 months</th>\n",
       "      <td>548</td>\n",
       "      <td>548</td>\n",
       "      <td>548</td>\n",
       "      <td>548</td>\n",
       "      <td>548</td>\n",
       "      <td>548</td>\n",
       "      <td>548</td>\n",
       "      <td>548</td>\n",
       "      <td>548</td>\n",
       "      <td>548</td>\n",
       "      <td>548</td>\n",
       "      <td>548</td>\n",
       "      <td>537</td>\n",
       "    </tr>\n",
       "  </tbody>\n",
       "</table>\n",
       "</div>"
      ],
      "text/plain": [
       "             Amount.Requested  Amount.Funded.By.Investors  Interest.Rate  \\\n",
       "Loan.Length                                                                \n",
       "36 months                1952                        1952           1952   \n",
       "60 months                 548                         548            548   \n",
       "\n",
       "             Loan.Purpose  Debt.To.Income.Ratio  State  Home.Ownership  \\\n",
       "Loan.Length                                                              \n",
       "36 months            1952                  1951   1952            1952   \n",
       "60 months             548                   548    548             548   \n",
       "\n",
       "             Monthly.Income  FICO.Range  Open.CREDIT.Lines  \\\n",
       "Loan.Length                                                  \n",
       "36 months              1951        1952               1949   \n",
       "60 months               548         548                548   \n",
       "\n",
       "             Revolving.CREDIT.Balance  Inquiries.in.the.Last.6.Months  \\\n",
       "Loan.Length                                                             \n",
       "36 months                        1949                            1949   \n",
       "60 months                         548                             548   \n",
       "\n",
       "             Employment.Length  \n",
       "Loan.Length                     \n",
       "36 months                 1886  \n",
       "60 months                  537  "
      ]
     },
     "execution_count": 34,
     "metadata": {},
     "output_type": "execute_result"
    }
   ],
   "source": [
    "Loans_data.groupby(\"Loan.Length\").count()"
   ]
  },
  {
   "cell_type": "code",
   "execution_count": 29,
   "id": "56498cbb",
   "metadata": {},
   "outputs": [],
   "source": [
    "A = Loans_data.loc[Loans_data[\"Loan.Length\"]=='36 months','Interest.Rate' ]"
   ]
  },
  {
   "cell_type": "code",
   "execution_count": 30,
   "id": "26d59baa",
   "metadata": {},
   "outputs": [],
   "source": [
    "B =Loans_data.loc[Loans_data[\"Loan.Length\"]=='60 months','Interest.Rate' ]"
   ]
  },
  {
   "cell_type": "code",
   "execution_count": 31,
   "id": "5ddabb4a",
   "metadata": {},
   "outputs": [
    {
     "data": {
      "text/plain": [
       "Ttest_indResult(statistic=-23.41049023613487, pvalue=9.549596064332559e-110)"
      ]
     },
     "execution_count": 31,
     "metadata": {},
     "output_type": "execute_result"
    }
   ],
   "source": [
    "stats.ttest_ind(A,B)"
   ]
  },
  {
   "cell_type": "markdown",
   "id": "b2c737f9",
   "metadata": {},
   "source": [
    "New p  value = 9.549596064332559e-110\n",
    "New p-value < Initial p-value. So, we will REJECT Ho.\n",
    "\n",
    "Therefore, Loan length is directly effecting the interest rate."
   ]
  },
  {
   "cell_type": "markdown",
   "id": "056100e8",
   "metadata": {},
   "source": [
    "#### c. Inrest rate varies for different purpose of loans"
   ]
  },
  {
   "cell_type": "markdown",
   "id": "8143f0bc",
   "metadata": {},
   "source": [
    "Define null hypothesis - Ho: Ho= Interest rate does not vary for different purpose of loans.\n",
    "\n",
    "Define alternative hypothesis - Ha: Ha= Interest rate varies for different purpose of loans.\n",
    "\n",
    "Define CI : CI = 95% , Initial p-value =0.05\n",
    "\n",
    "Perform test: Co-Relations (Spearman's Rank) as we have to find the relationship between categorical and continuous variable."
   ]
  },
  {
   "cell_type": "code",
   "execution_count": 37,
   "id": "2d5711af",
   "metadata": {},
   "outputs": [
    {
     "data": {
      "text/plain": [
       "SpearmanrResult(correlation=-0.06035663579266386, pvalue=0.0025354766301471797)"
      ]
     },
     "execution_count": 37,
     "metadata": {},
     "output_type": "execute_result"
    }
   ],
   "source": [
    "stats.spearmanr(Loans_data['Loan.Purpose'],Loans_data['Interest.Rate'])"
   ]
  },
  {
   "cell_type": "markdown",
   "id": "10219403",
   "metadata": {},
   "source": [
    "Business conclusion:\n",
    "\n",
    "Initial p-value= 0.05\n",
    "\n",
    "New p-value= 0.0025354766301471797\n",
    "\n",
    "since New p-value < Initial p-value , we will REJECT Ho.\n",
    "\n",
    "Therefore, Interest rate varies for different purpose of loans."
   ]
  },
  {
   "cell_type": "markdown",
   "id": "b1c2d8e6",
   "metadata": {},
   "source": [
    "#### d. There is relationship between FICO scores and Home Ownership. It means that, People with owning home will have high FICO scores."
   ]
  },
  {
   "cell_type": "markdown",
   "id": "6d4cc04d",
   "metadata": {},
   "source": [
    "Define null hypothesis - Ho: Ho= There is no relationship between FICO scores and Home Ownership.\n",
    "\n",
    "Define alternative hypothesis - Ha: Ha= There is relationship between FICO scores and Home Ownership.\n",
    "\n",
    "Define CI : CI = 95% , Initial p-value =0.05\n",
    "\n",
    "Perform test: We have to determine the relationship between 2 categorical variables so we will perform Chi-Sq test."
   ]
  },
  {
   "cell_type": "code",
   "execution_count": 38,
   "id": "c8154fb6",
   "metadata": {},
   "outputs": [
    {
     "data": {
      "text/html": [
       "<div>\n",
       "<style scoped>\n",
       "    .dataframe tbody tr th:only-of-type {\n",
       "        vertical-align: middle;\n",
       "    }\n",
       "\n",
       "    .dataframe tbody tr th {\n",
       "        vertical-align: top;\n",
       "    }\n",
       "\n",
       "    .dataframe thead th {\n",
       "        text-align: right;\n",
       "    }\n",
       "</style>\n",
       "<table border=\"1\" class=\"dataframe\">\n",
       "  <thead>\n",
       "    <tr style=\"text-align: right;\">\n",
       "      <th>FICO.Range</th>\n",
       "      <th>640-644</th>\n",
       "      <th>645-649</th>\n",
       "      <th>650-654</th>\n",
       "      <th>655-659</th>\n",
       "      <th>660-664</th>\n",
       "      <th>665-669</th>\n",
       "      <th>670-674</th>\n",
       "      <th>675-679</th>\n",
       "      <th>680-684</th>\n",
       "      <th>685-689</th>\n",
       "      <th>...</th>\n",
       "      <th>780-784</th>\n",
       "      <th>785-789</th>\n",
       "      <th>790-794</th>\n",
       "      <th>795-799</th>\n",
       "      <th>800-804</th>\n",
       "      <th>805-809</th>\n",
       "      <th>810-814</th>\n",
       "      <th>815-819</th>\n",
       "      <th>820-824</th>\n",
       "      <th>830-834</th>\n",
       "    </tr>\n",
       "    <tr>\n",
       "      <th>Home.Ownership</th>\n",
       "      <th></th>\n",
       "      <th></th>\n",
       "      <th></th>\n",
       "      <th></th>\n",
       "      <th></th>\n",
       "      <th></th>\n",
       "      <th></th>\n",
       "      <th></th>\n",
       "      <th></th>\n",
       "      <th></th>\n",
       "      <th></th>\n",
       "      <th></th>\n",
       "      <th></th>\n",
       "      <th></th>\n",
       "      <th></th>\n",
       "      <th></th>\n",
       "      <th></th>\n",
       "      <th></th>\n",
       "      <th></th>\n",
       "      <th></th>\n",
       "      <th></th>\n",
       "    </tr>\n",
       "  </thead>\n",
       "  <tbody>\n",
       "    <tr>\n",
       "      <th>MORTGAGE</th>\n",
       "      <td>0</td>\n",
       "      <td>1</td>\n",
       "      <td>1</td>\n",
       "      <td>0</td>\n",
       "      <td>41</td>\n",
       "      <td>52</td>\n",
       "      <td>68</td>\n",
       "      <td>79</td>\n",
       "      <td>55</td>\n",
       "      <td>61</td>\n",
       "      <td>...</td>\n",
       "      <td>21</td>\n",
       "      <td>12</td>\n",
       "      <td>15</td>\n",
       "      <td>7</td>\n",
       "      <td>7</td>\n",
       "      <td>6</td>\n",
       "      <td>5</td>\n",
       "      <td>6</td>\n",
       "      <td>0</td>\n",
       "      <td>1</td>\n",
       "    </tr>\n",
       "    <tr>\n",
       "      <th>NONE</th>\n",
       "      <td>0</td>\n",
       "      <td>0</td>\n",
       "      <td>0</td>\n",
       "      <td>0</td>\n",
       "      <td>0</td>\n",
       "      <td>0</td>\n",
       "      <td>0</td>\n",
       "      <td>0</td>\n",
       "      <td>0</td>\n",
       "      <td>0</td>\n",
       "      <td>...</td>\n",
       "      <td>0</td>\n",
       "      <td>0</td>\n",
       "      <td>0</td>\n",
       "      <td>0</td>\n",
       "      <td>1</td>\n",
       "      <td>0</td>\n",
       "      <td>0</td>\n",
       "      <td>0</td>\n",
       "      <td>0</td>\n",
       "      <td>0</td>\n",
       "    </tr>\n",
       "    <tr>\n",
       "      <th>OTHER</th>\n",
       "      <td>0</td>\n",
       "      <td>0</td>\n",
       "      <td>0</td>\n",
       "      <td>1</td>\n",
       "      <td>0</td>\n",
       "      <td>0</td>\n",
       "      <td>1</td>\n",
       "      <td>1</td>\n",
       "      <td>2</td>\n",
       "      <td>0</td>\n",
       "      <td>...</td>\n",
       "      <td>0</td>\n",
       "      <td>0</td>\n",
       "      <td>0</td>\n",
       "      <td>0</td>\n",
       "      <td>0</td>\n",
       "      <td>0</td>\n",
       "      <td>0</td>\n",
       "      <td>0</td>\n",
       "      <td>0</td>\n",
       "      <td>0</td>\n",
       "    </tr>\n",
       "    <tr>\n",
       "      <th>OWN</th>\n",
       "      <td>1</td>\n",
       "      <td>0</td>\n",
       "      <td>0</td>\n",
       "      <td>0</td>\n",
       "      <td>17</td>\n",
       "      <td>18</td>\n",
       "      <td>13</td>\n",
       "      <td>11</td>\n",
       "      <td>9</td>\n",
       "      <td>10</td>\n",
       "      <td>...</td>\n",
       "      <td>3</td>\n",
       "      <td>2</td>\n",
       "      <td>1</td>\n",
       "      <td>1</td>\n",
       "      <td>3</td>\n",
       "      <td>2</td>\n",
       "      <td>1</td>\n",
       "      <td>0</td>\n",
       "      <td>1</td>\n",
       "      <td>0</td>\n",
       "    </tr>\n",
       "    <tr>\n",
       "      <th>RENT</th>\n",
       "      <td>4</td>\n",
       "      <td>2</td>\n",
       "      <td>0</td>\n",
       "      <td>3</td>\n",
       "      <td>67</td>\n",
       "      <td>75</td>\n",
       "      <td>91</td>\n",
       "      <td>75</td>\n",
       "      <td>91</td>\n",
       "      <td>65</td>\n",
       "      <td>...</td>\n",
       "      <td>4</td>\n",
       "      <td>5</td>\n",
       "      <td>4</td>\n",
       "      <td>5</td>\n",
       "      <td>2</td>\n",
       "      <td>3</td>\n",
       "      <td>2</td>\n",
       "      <td>0</td>\n",
       "      <td>0</td>\n",
       "      <td>0</td>\n",
       "    </tr>\n",
       "  </tbody>\n",
       "</table>\n",
       "<p>5 rows × 38 columns</p>\n",
       "</div>"
      ],
      "text/plain": [
       "FICO.Range      640-644  645-649  650-654  655-659  660-664  665-669  670-674  \\\n",
       "Home.Ownership                                                                  \n",
       "MORTGAGE              0        1        1        0       41       52       68   \n",
       "NONE                  0        0        0        0        0        0        0   \n",
       "OTHER                 0        0        0        1        0        0        1   \n",
       "OWN                   1        0        0        0       17       18       13   \n",
       "RENT                  4        2        0        3       67       75       91   \n",
       "\n",
       "FICO.Range      675-679  680-684  685-689  ...  780-784  785-789  790-794  \\\n",
       "Home.Ownership                             ...                              \n",
       "MORTGAGE             79       55       61  ...       21       12       15   \n",
       "NONE                  0        0        0  ...        0        0        0   \n",
       "OTHER                 1        2        0  ...        0        0        0   \n",
       "OWN                  11        9       10  ...        3        2        1   \n",
       "RENT                 75       91       65  ...        4        5        4   \n",
       "\n",
       "FICO.Range      795-799  800-804  805-809  810-814  815-819  820-824  830-834  \n",
       "Home.Ownership                                                                 \n",
       "MORTGAGE              7        7        6        5        6        0        1  \n",
       "NONE                  0        1        0        0        0        0        0  \n",
       "OTHER                 0        0        0        0        0        0        0  \n",
       "OWN                   1        3        2        1        0        1        0  \n",
       "RENT                  5        2        3        2        0        0        0  \n",
       "\n",
       "[5 rows x 38 columns]"
      ]
     },
     "execution_count": 38,
     "metadata": {},
     "output_type": "execute_result"
    }
   ],
   "source": [
    "Chi_Square=pd.crosstab( Loans_data['Home.Ownership'],Loans_data['FICO.Range'] )\n",
    "Chi_Square"
   ]
  },
  {
   "cell_type": "code",
   "execution_count": 39,
   "id": "c8865858",
   "metadata": {},
   "outputs": [
    {
     "data": {
      "text/plain": [
       "(473.5648028168521,\n",
       " 1.0065160858471904e-35,\n",
       " 148,\n",
       " array([[2.29600e+00, 1.37760e+00, 4.59200e-01, 1.83680e+00, 5.74000e+01,\n",
       "         6.65840e+01, 7.94416e+01, 7.62272e+01, 7.20944e+01, 6.24512e+01,\n",
       "         6.42880e+01, 7.02576e+01, 6.01552e+01, 6.15328e+01, 5.14304e+01,\n",
       "         4.27056e+01, 5.23488e+01, 4.31648e+01, 4.31648e+01, 2.98480e+01,\n",
       "         2.43376e+01, 2.47968e+01, 2.80112e+01, 2.11232e+01, 2.11232e+01,\n",
       "         1.65312e+01, 7.80640e+00, 1.01024e+01, 1.28576e+01, 8.72480e+00,\n",
       "         9.18400e+00, 5.96960e+00, 5.96960e+00, 5.05120e+00, 3.67360e+00,\n",
       "         2.75520e+00, 4.59200e-01, 4.59200e-01],\n",
       "        [2.00000e-03, 1.20000e-03, 4.00000e-04, 1.60000e-03, 5.00000e-02,\n",
       "         5.80000e-02, 6.92000e-02, 6.64000e-02, 6.28000e-02, 5.44000e-02,\n",
       "         5.60000e-02, 6.12000e-02, 5.24000e-02, 5.36000e-02, 4.48000e-02,\n",
       "         3.72000e-02, 4.56000e-02, 3.76000e-02, 3.76000e-02, 2.60000e-02,\n",
       "         2.12000e-02, 2.16000e-02, 2.44000e-02, 1.84000e-02, 1.84000e-02,\n",
       "         1.44000e-02, 6.80000e-03, 8.80000e-03, 1.12000e-02, 7.60000e-03,\n",
       "         8.00000e-03, 5.20000e-03, 5.20000e-03, 4.40000e-03, 3.20000e-03,\n",
       "         2.40000e-03, 4.00000e-04, 4.00000e-04],\n",
       "        [1.00000e-02, 6.00000e-03, 2.00000e-03, 8.00000e-03, 2.50000e-01,\n",
       "         2.90000e-01, 3.46000e-01, 3.32000e-01, 3.14000e-01, 2.72000e-01,\n",
       "         2.80000e-01, 3.06000e-01, 2.62000e-01, 2.68000e-01, 2.24000e-01,\n",
       "         1.86000e-01, 2.28000e-01, 1.88000e-01, 1.88000e-01, 1.30000e-01,\n",
       "         1.06000e-01, 1.08000e-01, 1.22000e-01, 9.20000e-02, 9.20000e-02,\n",
       "         7.20000e-02, 3.40000e-02, 4.40000e-02, 5.60000e-02, 3.80000e-02,\n",
       "         4.00000e-02, 2.60000e-02, 2.60000e-02, 2.20000e-02, 1.60000e-02,\n",
       "         1.20000e-02, 2.00000e-03, 2.00000e-03],\n",
       "        [4.00000e-01, 2.40000e-01, 8.00000e-02, 3.20000e-01, 1.00000e+01,\n",
       "         1.16000e+01, 1.38400e+01, 1.32800e+01, 1.25600e+01, 1.08800e+01,\n",
       "         1.12000e+01, 1.22400e+01, 1.04800e+01, 1.07200e+01, 8.96000e+00,\n",
       "         7.44000e+00, 9.12000e+00, 7.52000e+00, 7.52000e+00, 5.20000e+00,\n",
       "         4.24000e+00, 4.32000e+00, 4.88000e+00, 3.68000e+00, 3.68000e+00,\n",
       "         2.88000e+00, 1.36000e+00, 1.76000e+00, 2.24000e+00, 1.52000e+00,\n",
       "         1.60000e+00, 1.04000e+00, 1.04000e+00, 8.80000e-01, 6.40000e-01,\n",
       "         4.80000e-01, 8.00000e-02, 8.00000e-02],\n",
       "        [2.29200e+00, 1.37520e+00, 4.58400e-01, 1.83360e+00, 5.73000e+01,\n",
       "         6.64680e+01, 7.93032e+01, 7.60944e+01, 7.19688e+01, 6.23424e+01,\n",
       "         6.41760e+01, 7.01352e+01, 6.00504e+01, 6.14256e+01, 5.13408e+01,\n",
       "         4.26312e+01, 5.22576e+01, 4.30896e+01, 4.30896e+01, 2.97960e+01,\n",
       "         2.42952e+01, 2.47536e+01, 2.79624e+01, 2.10864e+01, 2.10864e+01,\n",
       "         1.65024e+01, 7.79280e+00, 1.00848e+01, 1.28352e+01, 8.70960e+00,\n",
       "         9.16800e+00, 5.95920e+00, 5.95920e+00, 5.04240e+00, 3.66720e+00,\n",
       "         2.75040e+00, 4.58400e-01, 4.58400e-01]]))"
      ]
     },
     "execution_count": 39,
     "metadata": {},
     "output_type": "execute_result"
    }
   ],
   "source": [
    "stats.chi2_contingency(Chi_Square)"
   ]
  },
  {
   "cell_type": "markdown",
   "id": "0c96ef21",
   "metadata": {},
   "source": [
    "Business conclusion:\n",
    "\n",
    "Initial p-value= 0.05, New p-value= 1.0065160858471904e-35\n",
    "\n",
    "New p-value < initial p-value , So we will REJECT Ho.\n",
    "\n",
    "Therefore,we can say that there is relationship between FICO scores and Home Ownership with 95% accuracy."
   ]
  },
  {
   "cell_type": "markdown",
   "id": "92882244",
   "metadata": {},
   "source": [
    "###  BUSINESS PROBLEM 2:\n",
    "We would like to assess if there is any difference in the average price quotes provided by Mary and Barry.\n",
    "\n",
    "DATA AVAILABLE:\n",
    "Price_Quotes.csv\n",
    "\n",
    "The data set contains the order number, 1 through 12, and the price quotes by Mary and Barry for each order. Each row in the  data set is the same order. Thus, Mary and Barry produced quotes for the same orders."
   ]
  },
  {
   "cell_type": "code",
   "execution_count": 41,
   "id": "be3ca280",
   "metadata": {},
   "outputs": [
    {
     "data": {
      "text/html": [
       "<div>\n",
       "<style scoped>\n",
       "    .dataframe tbody tr th:only-of-type {\n",
       "        vertical-align: middle;\n",
       "    }\n",
       "\n",
       "    .dataframe tbody tr th {\n",
       "        vertical-align: top;\n",
       "    }\n",
       "\n",
       "    .dataframe thead th {\n",
       "        text-align: right;\n",
       "    }\n",
       "</style>\n",
       "<table border=\"1\" class=\"dataframe\">\n",
       "  <thead>\n",
       "    <tr style=\"text-align: right;\">\n",
       "      <th></th>\n",
       "      <th>Order_Number</th>\n",
       "      <th>Barry_Price</th>\n",
       "      <th>Mary_Price</th>\n",
       "    </tr>\n",
       "  </thead>\n",
       "  <tbody>\n",
       "    <tr>\n",
       "      <th>0</th>\n",
       "      <td>1</td>\n",
       "      <td>126</td>\n",
       "      <td>114</td>\n",
       "    </tr>\n",
       "    <tr>\n",
       "      <th>1</th>\n",
       "      <td>2</td>\n",
       "      <td>110</td>\n",
       "      <td>118</td>\n",
       "    </tr>\n",
       "    <tr>\n",
       "      <th>2</th>\n",
       "      <td>3</td>\n",
       "      <td>138</td>\n",
       "      <td>114</td>\n",
       "    </tr>\n",
       "    <tr>\n",
       "      <th>3</th>\n",
       "      <td>4</td>\n",
       "      <td>142</td>\n",
       "      <td>111</td>\n",
       "    </tr>\n",
       "    <tr>\n",
       "      <th>4</th>\n",
       "      <td>5</td>\n",
       "      <td>146</td>\n",
       "      <td>129</td>\n",
       "    </tr>\n",
       "    <tr>\n",
       "      <th>5</th>\n",
       "      <td>6</td>\n",
       "      <td>136</td>\n",
       "      <td>119</td>\n",
       "    </tr>\n",
       "    <tr>\n",
       "      <th>6</th>\n",
       "      <td>7</td>\n",
       "      <td>94</td>\n",
       "      <td>97</td>\n",
       "    </tr>\n",
       "    <tr>\n",
       "      <th>7</th>\n",
       "      <td>8</td>\n",
       "      <td>103</td>\n",
       "      <td>104</td>\n",
       "    </tr>\n",
       "    <tr>\n",
       "      <th>8</th>\n",
       "      <td>9</td>\n",
       "      <td>140</td>\n",
       "      <td>127</td>\n",
       "    </tr>\n",
       "    <tr>\n",
       "      <th>9</th>\n",
       "      <td>10</td>\n",
       "      <td>152</td>\n",
       "      <td>133</td>\n",
       "    </tr>\n",
       "    <tr>\n",
       "      <th>10</th>\n",
       "      <td>11</td>\n",
       "      <td>108</td>\n",
       "      <td>103</td>\n",
       "    </tr>\n",
       "    <tr>\n",
       "      <th>11</th>\n",
       "      <td>12</td>\n",
       "      <td>97</td>\n",
       "      <td>108</td>\n",
       "    </tr>\n",
       "  </tbody>\n",
       "</table>\n",
       "</div>"
      ],
      "text/plain": [
       "    Order_Number  Barry_Price  Mary_Price\n",
       "0              1          126         114\n",
       "1              2          110         118\n",
       "2              3          138         114\n",
       "3              4          142         111\n",
       "4              5          146         129\n",
       "5              6          136         119\n",
       "6              7           94          97\n",
       "7              8          103         104\n",
       "8              9          140         127\n",
       "9             10          152         133\n",
       "10            11          108         103\n",
       "11            12           97         108"
      ]
     },
     "execution_count": 41,
     "metadata": {},
     "output_type": "execute_result"
    }
   ],
   "source": [
    "Price_quotes = pd.read_csv(r\"C:\\Users\\ADMIN\\Downloads\\Basic Statistics - Hypothesis Testing (1)\\Price_Quotes.csv\")\n",
    "Price_quotes"
   ]
  },
  {
   "cell_type": "code",
   "execution_count": 42,
   "id": "e184043e",
   "metadata": {},
   "outputs": [
    {
     "data": {
      "text/plain": [
       "Order_Number    0\n",
       "Barry_Price     0\n",
       "Mary_Price      0\n",
       "dtype: int64"
      ]
     },
     "execution_count": 42,
     "metadata": {},
     "output_type": "execute_result"
    }
   ],
   "source": [
    "Price_quotes.isna().sum()"
   ]
  },
  {
   "cell_type": "code",
   "execution_count": 43,
   "id": "aef57f3b",
   "metadata": {},
   "outputs": [
    {
     "data": {
      "text/plain": [
       "0"
      ]
     },
     "execution_count": 43,
     "metadata": {},
     "output_type": "execute_result"
    }
   ],
   "source": [
    "Price_quotes.duplicated().sum()"
   ]
  },
  {
   "cell_type": "code",
   "execution_count": 45,
   "id": "f8869391",
   "metadata": {},
   "outputs": [
    {
     "name": "stderr",
     "output_type": "stream",
     "text": [
      "C:\\Users\\ADMIN\\anaconda3\\lib\\site-packages\\seaborn\\_decorators.py:36: FutureWarning: Pass the following variable as a keyword arg: x. From version 0.12, the only valid positional argument will be `data`, and passing other arguments without an explicit keyword will result in an error or misinterpretation.\n",
      "  warnings.warn(\n"
     ]
    },
    {
     "data": {
      "text/plain": [
       "<AxesSubplot:xlabel='Barry_Price'>"
      ]
     },
     "execution_count": 45,
     "metadata": {},
     "output_type": "execute_result"
    },
    {
     "data": {
      "image/png": "[encoded data removed]",
      "text/plain": [
       "<Figure size 432x288 with 1 Axes>"
      ]
     },
     "metadata": {
      "needs_background": "light"
     },
     "output_type": "display_data"
    }
   ],
   "source": [
    "sns.boxplot(Price_quotes.Barry_Price)"
   ]
  },
  {
   "cell_type": "code",
   "execution_count": 46,
   "id": "8f240993",
   "metadata": {},
   "outputs": [
    {
     "name": "stderr",
     "output_type": "stream",
     "text": [
      "C:\\Users\\ADMIN\\anaconda3\\lib\\site-packages\\seaborn\\_decorators.py:36: FutureWarning: Pass the following variable as a keyword arg: x. From version 0.12, the only valid positional argument will be `data`, and passing other arguments without an explicit keyword will result in an error or misinterpretation.\n",
      "  warnings.warn(\n"
     ]
    },
    {
     "data": {
      "text/plain": [
       "<AxesSubplot:xlabel='Mary_Price'>"
      ]
     },
     "execution_count": 46,
     "metadata": {},
     "output_type": "execute_result"
    },
    {
     "data": {
      "image/png": "[encoded data removed]",
      "text/plain": [
       "<Figure size 432x288 with 1 Axes>"
      ]
     },
     "metadata": {
      "needs_background": "light"
     },
     "output_type": "display_data"
    }
   ],
   "source": [
    "sns.boxplot(Price_quotes.Mary_Price)"
   ]
  },
  {
   "cell_type": "markdown",
   "id": "c1b63a01",
   "metadata": {},
   "source": [
    "Define null hypothesis - Ho: Ho= there is no difference in the avg price quotes provided by Mary and Barry.\n",
    "\n",
    "Define Alternative hypothesis - Ha: Ha= there is difference in the avg price quotes provided by Mary and Barry.\n",
    "\n",
    "Define CI : CI = 95% , Initial p-value =0.05\n",
    "\n",
    "Perform test: T-Test -- we are considering sample size of 12"
   ]
  },
  {
   "cell_type": "code",
   "execution_count": 48,
   "id": "49e0c85e",
   "metadata": {},
   "outputs": [
    {
     "data": {
      "text/plain": [
       "Ttest_relResult(statistic=2.521376510892349, pvalue=0.02840588045242053)"
      ]
     },
     "execution_count": 48,
     "metadata": {},
     "output_type": "execute_result"
    }
   ],
   "source": [
    "stats.ttest_rel(Price_quotes.Barry_Price,Price_quotes.Mary_Price)"
   ]
  },
  {
   "cell_type": "markdown",
   "id": "99d272bf",
   "metadata": {},
   "source": [
    "Business Conclusion:\n",
    "\n",
    "Initial p-value= 0.05 New p-value= 0.0284\n",
    "\n",
    "since New p-value < Initial p-value , we will REJECT Ho.\n",
    "\n",
    "Therefore, there is difference between the average price quotes provided by Mary and Barry."
   ]
  },
  {
   "cell_type": "markdown",
   "id": "dff252eb",
   "metadata": {},
   "source": [
    "### BUSINESS PROBLEM-3:"
   ]
  },
  {
   "cell_type": "markdown",
   "id": "8f58bead",
   "metadata": {},
   "source": [
    " Determine what effect, if any, the reengineering effort had on the\n",
    "incidence behavioral problems and staff turnover. i.e To determine if the reengineering effort\n",
    "changed the critical incidence rate. Is there evidence that the critical incidence rate\n",
    "improved?"
   ]
  },
  {
   "cell_type": "code",
   "execution_count": 57,
   "id": "0e98552d",
   "metadata": {},
   "outputs": [
    {
     "data": {
      "text/html": [
       "<div>\n",
       "<style scoped>\n",
       "    .dataframe tbody tr th:only-of-type {\n",
       "        vertical-align: middle;\n",
       "    }\n",
       "\n",
       "    .dataframe tbody tr th {\n",
       "        vertical-align: top;\n",
       "    }\n",
       "\n",
       "    .dataframe thead th {\n",
       "        text-align: right;\n",
       "    }\n",
       "</style>\n",
       "<table border=\"1\" class=\"dataframe\">\n",
       "  <thead>\n",
       "    <tr style=\"text-align: right;\">\n",
       "      <th></th>\n",
       "      <th>Month</th>\n",
       "      <th>Reengineer</th>\n",
       "      <th>Employee_Turnover</th>\n",
       "      <th>VAR4</th>\n",
       "      <th>VAR5</th>\n",
       "    </tr>\n",
       "  </thead>\n",
       "  <tbody>\n",
       "    <tr>\n",
       "      <th>0</th>\n",
       "      <td>1</td>\n",
       "      <td>Prior</td>\n",
       "      <td>0.0000</td>\n",
       "      <td>24.390244</td>\n",
       "      <td>42.682927</td>\n",
       "    </tr>\n",
       "    <tr>\n",
       "      <th>1</th>\n",
       "      <td>2</td>\n",
       "      <td>Prior</td>\n",
       "      <td>6.0606</td>\n",
       "      <td>19.354839</td>\n",
       "      <td>25.806452</td>\n",
       "    </tr>\n",
       "    <tr>\n",
       "      <th>2</th>\n",
       "      <td>3</td>\n",
       "      <td>Prior</td>\n",
       "      <td>12.1212</td>\n",
       "      <td>35.087719</td>\n",
       "      <td>146.198830</td>\n",
       "    </tr>\n",
       "    <tr>\n",
       "      <th>3</th>\n",
       "      <td>4</td>\n",
       "      <td>Prior</td>\n",
       "      <td>3.3333</td>\n",
       "      <td>18.404908</td>\n",
       "      <td>110.429448</td>\n",
       "    </tr>\n",
       "    <tr>\n",
       "      <th>4</th>\n",
       "      <td>5</td>\n",
       "      <td>Prior</td>\n",
       "      <td>12.9032</td>\n",
       "      <td>17.964072</td>\n",
       "      <td>23.952096</td>\n",
       "    </tr>\n",
       "    <tr>\n",
       "      <th>5</th>\n",
       "      <td>6</td>\n",
       "      <td>Prior</td>\n",
       "      <td>9.6774</td>\n",
       "      <td>41.176471</td>\n",
       "      <td>47.058824</td>\n",
       "    </tr>\n",
       "    <tr>\n",
       "      <th>6</th>\n",
       "      <td>7</td>\n",
       "      <td>Prior</td>\n",
       "      <td>11.7647</td>\n",
       "      <td>13.422819</td>\n",
       "      <td>0.000000</td>\n",
       "    </tr>\n",
       "    <tr>\n",
       "      <th>7</th>\n",
       "      <td>8</td>\n",
       "      <td>Prior</td>\n",
       "      <td>11.4286</td>\n",
       "      <td>31.250000</td>\n",
       "      <td>25.000000</td>\n",
       "    </tr>\n",
       "    <tr>\n",
       "      <th>8</th>\n",
       "      <td>9</td>\n",
       "      <td>Prior</td>\n",
       "      <td>23.0769</td>\n",
       "      <td>17.241379</td>\n",
       "      <td>132.183908</td>\n",
       "    </tr>\n",
       "    <tr>\n",
       "      <th>9</th>\n",
       "      <td>10</td>\n",
       "      <td>Prior</td>\n",
       "      <td>15.0000</td>\n",
       "      <td>16.574586</td>\n",
       "      <td>16.574586</td>\n",
       "    </tr>\n",
       "    <tr>\n",
       "      <th>10</th>\n",
       "      <td>11</td>\n",
       "      <td>Prior</td>\n",
       "      <td>10.0000</td>\n",
       "      <td>5.917160</td>\n",
       "      <td>88.757396</td>\n",
       "    </tr>\n",
       "    <tr>\n",
       "      <th>11</th>\n",
       "      <td>12</td>\n",
       "      <td>Prior</td>\n",
       "      <td>26.0870</td>\n",
       "      <td>21.164021</td>\n",
       "      <td>31.746032</td>\n",
       "    </tr>\n",
       "    <tr>\n",
       "      <th>12</th>\n",
       "      <td>13</td>\n",
       "      <td>Prior</td>\n",
       "      <td>11.1111</td>\n",
       "      <td>5.076142</td>\n",
       "      <td>10.152284</td>\n",
       "    </tr>\n",
       "    <tr>\n",
       "      <th>13</th>\n",
       "      <td>14</td>\n",
       "      <td>Post</td>\n",
       "      <td>26.6667</td>\n",
       "      <td>9.708738</td>\n",
       "      <td>29.126214</td>\n",
       "    </tr>\n",
       "    <tr>\n",
       "      <th>14</th>\n",
       "      <td>15</td>\n",
       "      <td>Post</td>\n",
       "      <td>17.9487</td>\n",
       "      <td>4.201681</td>\n",
       "      <td>21.008403</td>\n",
       "    </tr>\n",
       "    <tr>\n",
       "      <th>15</th>\n",
       "      <td>16</td>\n",
       "      <td>Post</td>\n",
       "      <td>12.8205</td>\n",
       "      <td>13.043478</td>\n",
       "      <td>34.782609</td>\n",
       "    </tr>\n",
       "    <tr>\n",
       "      <th>16</th>\n",
       "      <td>17</td>\n",
       "      <td>Post</td>\n",
       "      <td>15.7895</td>\n",
       "      <td>9.950249</td>\n",
       "      <td>19.900498</td>\n",
       "    </tr>\n",
       "    <tr>\n",
       "      <th>17</th>\n",
       "      <td>18</td>\n",
       "      <td>Post</td>\n",
       "      <td>0.0000</td>\n",
       "      <td>9.950249</td>\n",
       "      <td>9.950249</td>\n",
       "    </tr>\n",
       "    <tr>\n",
       "      <th>18</th>\n",
       "      <td>19</td>\n",
       "      <td>Post</td>\n",
       "      <td>30.7692</td>\n",
       "      <td>8.510638</td>\n",
       "      <td>25.531915</td>\n",
       "    </tr>\n",
       "    <tr>\n",
       "      <th>19</th>\n",
       "      <td>20</td>\n",
       "      <td>Post</td>\n",
       "      <td>26.8293</td>\n",
       "      <td>9.259259</td>\n",
       "      <td>23.148148</td>\n",
       "    </tr>\n",
       "  </tbody>\n",
       "</table>\n",
       "</div>"
      ],
      "text/plain": [
       "    Month Reengineer  Employee_Turnover       VAR4        VAR5\n",
       "0       1      Prior             0.0000  24.390244   42.682927\n",
       "1       2      Prior             6.0606  19.354839   25.806452\n",
       "2       3      Prior            12.1212  35.087719  146.198830\n",
       "3       4      Prior             3.3333  18.404908  110.429448\n",
       "4       5      Prior            12.9032  17.964072   23.952096\n",
       "5       6      Prior             9.6774  41.176471   47.058824\n",
       "6       7      Prior            11.7647  13.422819    0.000000\n",
       "7       8      Prior            11.4286  31.250000   25.000000\n",
       "8       9      Prior            23.0769  17.241379  132.183908\n",
       "9      10      Prior            15.0000  16.574586   16.574586\n",
       "10     11      Prior            10.0000   5.917160   88.757396\n",
       "11     12      Prior            26.0870  21.164021   31.746032\n",
       "12     13      Prior            11.1111   5.076142   10.152284\n",
       "13     14       Post            26.6667   9.708738   29.126214\n",
       "14     15       Post            17.9487   4.201681   21.008403\n",
       "15     16       Post            12.8205  13.043478   34.782609\n",
       "16     17       Post            15.7895   9.950249   19.900498\n",
       "17     18       Post             0.0000   9.950249    9.950249\n",
       "18     19       Post            30.7692   8.510638   25.531915\n",
       "19     20       Post            26.8293   9.259259   23.148148"
      ]
     },
     "execution_count": 57,
     "metadata": {},
     "output_type": "execute_result"
    }
   ],
   "source": [
    "Treatment_Facility=pd.read_csv(r\"C:\\Users\\ADMIN\\Downloads\\Basic Statistics - Hypothesis Testing (1)\\Treatment_Facility.csv\")\n",
    "Treatment_Facility"
   ]
  },
  {
   "cell_type": "code",
   "execution_count": 58,
   "id": "d516be62",
   "metadata": {},
   "outputs": [],
   "source": [
    "Treatment_Facility.rename(columns = {'VAR4':'TRFF','VAR5':'CI'},inplace = True)"
   ]
  },
  {
   "cell_type": "code",
   "execution_count": 60,
   "id": "58217824",
   "metadata": {},
   "outputs": [
    {
     "data": {
      "text/html": [
       "<div>\n",
       "<style scoped>\n",
       "    .dataframe tbody tr th:only-of-type {\n",
       "        vertical-align: middle;\n",
       "    }\n",
       "\n",
       "    .dataframe tbody tr th {\n",
       "        vertical-align: top;\n",
       "    }\n",
       "\n",
       "    .dataframe thead th {\n",
       "        text-align: right;\n",
       "    }\n",
       "</style>\n",
       "<table border=\"1\" class=\"dataframe\">\n",
       "  <thead>\n",
       "    <tr style=\"text-align: right;\">\n",
       "      <th></th>\n",
       "      <th>Month</th>\n",
       "      <th>Reengineer</th>\n",
       "      <th>Employee_Turnover</th>\n",
       "      <th>TRFF</th>\n",
       "      <th>CI</th>\n",
       "    </tr>\n",
       "  </thead>\n",
       "  <tbody>\n",
       "    <tr>\n",
       "      <th>0</th>\n",
       "      <td>1</td>\n",
       "      <td>Prior</td>\n",
       "      <td>0.0000</td>\n",
       "      <td>24.390244</td>\n",
       "      <td>42.682927</td>\n",
       "    </tr>\n",
       "    <tr>\n",
       "      <th>1</th>\n",
       "      <td>2</td>\n",
       "      <td>Prior</td>\n",
       "      <td>6.0606</td>\n",
       "      <td>19.354839</td>\n",
       "      <td>25.806452</td>\n",
       "    </tr>\n",
       "  </tbody>\n",
       "</table>\n",
       "</div>"
      ],
      "text/plain": [
       "   Month Reengineer  Employee_Turnover       TRFF         CI\n",
       "0      1      Prior             0.0000  24.390244  42.682927\n",
       "1      2      Prior             6.0606  19.354839  25.806452"
      ]
     },
     "execution_count": 60,
     "metadata": {},
     "output_type": "execute_result"
    }
   ],
   "source": [
    "Treatment_Facility.head(2)"
   ]
  },
  {
   "cell_type": "code",
   "execution_count": 62,
   "id": "c0421999",
   "metadata": {},
   "outputs": [
    {
     "data": {
      "text/html": [
       "<div>\n",
       "<style scoped>\n",
       "    .dataframe tbody tr th:only-of-type {\n",
       "        vertical-align: middle;\n",
       "    }\n",
       "\n",
       "    .dataframe tbody tr th {\n",
       "        vertical-align: top;\n",
       "    }\n",
       "\n",
       "    .dataframe thead th {\n",
       "        text-align: right;\n",
       "    }\n",
       "</style>\n",
       "<table border=\"1\" class=\"dataframe\">\n",
       "  <thead>\n",
       "    <tr style=\"text-align: right;\">\n",
       "      <th></th>\n",
       "      <th>Month</th>\n",
       "      <th>Employee_Turnover</th>\n",
       "      <th>TRFF</th>\n",
       "      <th>CI</th>\n",
       "    </tr>\n",
       "  </thead>\n",
       "  <tbody>\n",
       "    <tr>\n",
       "      <th>count</th>\n",
       "      <td>20.00000</td>\n",
       "      <td>20.000000</td>\n",
       "      <td>20.000000</td>\n",
       "      <td>20.000000</td>\n",
       "    </tr>\n",
       "    <tr>\n",
       "      <th>mean</th>\n",
       "      <td>10.50000</td>\n",
       "      <td>14.169395</td>\n",
       "      <td>16.582433</td>\n",
       "      <td>43.199541</td>\n",
       "    </tr>\n",
       "    <tr>\n",
       "      <th>std</th>\n",
       "      <td>5.91608</td>\n",
       "      <td>8.836302</td>\n",
       "      <td>10.088265</td>\n",
       "      <td>41.715909</td>\n",
       "    </tr>\n",
       "    <tr>\n",
       "      <th>min</th>\n",
       "      <td>1.00000</td>\n",
       "      <td>0.000000</td>\n",
       "      <td>4.201681</td>\n",
       "      <td>0.000000</td>\n",
       "    </tr>\n",
       "    <tr>\n",
       "      <th>25%</th>\n",
       "      <td>5.75000</td>\n",
       "      <td>9.919350</td>\n",
       "      <td>9.596368</td>\n",
       "      <td>20.731427</td>\n",
       "    </tr>\n",
       "    <tr>\n",
       "      <th>50%</th>\n",
       "      <td>10.50000</td>\n",
       "      <td>12.470850</td>\n",
       "      <td>14.998702</td>\n",
       "      <td>25.669183</td>\n",
       "    </tr>\n",
       "    <tr>\n",
       "      <th>75%</th>\n",
       "      <td>15.25000</td>\n",
       "      <td>19.230750</td>\n",
       "      <td>19.807134</td>\n",
       "      <td>43.776901</td>\n",
       "    </tr>\n",
       "    <tr>\n",
       "      <th>max</th>\n",
       "      <td>20.00000</td>\n",
       "      <td>30.769200</td>\n",
       "      <td>41.176471</td>\n",
       "      <td>146.198830</td>\n",
       "    </tr>\n",
       "  </tbody>\n",
       "</table>\n",
       "</div>"
      ],
      "text/plain": [
       "          Month  Employee_Turnover       TRFF          CI\n",
       "count  20.00000          20.000000  20.000000   20.000000\n",
       "mean   10.50000          14.169395  16.582433   43.199541\n",
       "std     5.91608           8.836302  10.088265   41.715909\n",
       "min     1.00000           0.000000   4.201681    0.000000\n",
       "25%     5.75000           9.919350   9.596368   20.731427\n",
       "50%    10.50000          12.470850  14.998702   25.669183\n",
       "75%    15.25000          19.230750  19.807134   43.776901\n",
       "max    20.00000          30.769200  41.176471  146.198830"
      ]
     },
     "execution_count": 62,
     "metadata": {},
     "output_type": "execute_result"
    }
   ],
   "source": [
    "Treatment_Facility.describe()"
   ]
  },
  {
   "cell_type": "markdown",
   "id": "2950aa44",
   "metadata": {},
   "source": [
    "#### Determine what effect, if any, the reengineering effort had on the incidence behavioral problems and staff turnover. i.e To determine if the reengineering effort changed the critical incidence rate. Is there evidence that the critical incidence rate improved?\n",
    "\n",
    "Define null hypothesis - Ho: Ho= there is no effect post the reengineer\n",
    "\n",
    "Define null hypothesis - Ha: Ha= there is effect post the reengineer\n",
    "\n",
    "Define CI : CI = 95% , pvalue =0.05\n",
    "\n",
    "Perform test: we will perform the T-Test (as we have to find relation between 1 continuous and 1 categorical variable)"
   ]
  },
  {
   "cell_type": "code",
   "execution_count": 66,
   "id": "399ec12b",
   "metadata": {},
   "outputs": [
    {
     "data": {
      "text/plain": [
       "0      42.682927\n",
       "1      25.806452\n",
       "2     146.198830\n",
       "3     110.429448\n",
       "4      23.952096\n",
       "5      47.058824\n",
       "6       0.000000\n",
       "7      25.000000\n",
       "8     132.183908\n",
       "9      16.574586\n",
       "10     88.757396\n",
       "11     31.746032\n",
       "12     10.152284\n",
       "Name: CI, dtype: float64"
      ]
     },
     "execution_count": 66,
     "metadata": {},
     "output_type": "execute_result"
    }
   ],
   "source": [
    "Prior= Treatment_Facility[Treatment_Facility.Reengineer== 'Prior']['CI']\n",
    "Prior"
   ]
  },
  {
   "cell_type": "code",
   "execution_count": 67,
   "id": "02cf2ff5",
   "metadata": {},
   "outputs": [
    {
     "data": {
      "text/plain": [
       "13    29.126214\n",
       "14    21.008403\n",
       "15    34.782609\n",
       "16    19.900498\n",
       "17     9.950249\n",
       "18    25.531915\n",
       "19    23.148148\n",
       "Name: CI, dtype: float64"
      ]
     },
     "execution_count": 67,
     "metadata": {},
     "output_type": "execute_result"
    }
   ],
   "source": [
    "Post= Treatment_Facility[Treatment_Facility.Reengineer== 'Post']['CI']\n",
    "Post"
   ]
  },
  {
   "cell_type": "code",
   "execution_count": 68,
   "id": "b33e1c27",
   "metadata": {},
   "outputs": [
    {
     "data": {
      "text/plain": [
       "Ttest_indResult(statistic=1.6279144253528646, pvalue=0.12091989189884149)"
      ]
     },
     "execution_count": 68,
     "metadata": {},
     "output_type": "execute_result"
    }
   ],
   "source": [
    "stats.ttest_ind(Prior,Post)"
   ]
  },
  {
   "cell_type": "markdown",
   "id": "1e9ed109",
   "metadata": {},
   "source": [
    "Business conclusion:\n",
    "\n",
    "Initial p-value= 0.05 New p-value= 0.12091989189884149\n",
    "\n",
    "since New p-value > Initial p-value , we will ACCEPT Ho.\n",
    "\n",
    "From the above observation it can't be proved if the reengineering effort changed the critical incidence rate.`"
   ]
  },
  {
   "cell_type": "markdown",
   "id": "230b292e",
   "metadata": {},
   "source": [
    "### BUSINESS PROBLEM-4:"
   ]
  },
  {
   "cell_type": "markdown",
   "id": "e2d692cb",
   "metadata": {},
   "source": [
    "We will focus on the prioritization system. If the system is working, then high priority jobs, on average, should be completed more quickly than medium priority jobs, and medium priority jobs should be completed more quickly than low priority jobs. Use the data provided to determine whether this is, in fact, occurring`"
   ]
  },
  {
   "cell_type": "code",
   "execution_count": 71,
   "id": "4d5e3a64",
   "metadata": {},
   "outputs": [],
   "source": [
    "Priority_Assessment = pd.read_csv(r\"C:\\Users\\ADMIN\\Downloads\\Basic Statistics - Hypothesis Testing (1)\\Priority_Assessment.csv\")"
   ]
  },
  {
   "cell_type": "code",
   "execution_count": 72,
   "id": "a7e37800",
   "metadata": {},
   "outputs": [
    {
     "data": {
      "text/html": [
       "<div>\n",
       "<style scoped>\n",
       "    .dataframe tbody tr th:only-of-type {\n",
       "        vertical-align: middle;\n",
       "    }\n",
       "\n",
       "    .dataframe tbody tr th {\n",
       "        vertical-align: top;\n",
       "    }\n",
       "\n",
       "    .dataframe thead th {\n",
       "        text-align: right;\n",
       "    }\n",
       "</style>\n",
       "<table border=\"1\" class=\"dataframe\">\n",
       "  <thead>\n",
       "    <tr style=\"text-align: right;\">\n",
       "      <th></th>\n",
       "      <th>Days</th>\n",
       "      <th>Priority</th>\n",
       "    </tr>\n",
       "  </thead>\n",
       "  <tbody>\n",
       "    <tr>\n",
       "      <th>0</th>\n",
       "      <td>3.3</td>\n",
       "      <td>High</td>\n",
       "    </tr>\n",
       "    <tr>\n",
       "      <th>1</th>\n",
       "      <td>7.9</td>\n",
       "      <td>Medium</td>\n",
       "    </tr>\n",
       "    <tr>\n",
       "      <th>2</th>\n",
       "      <td>0.3</td>\n",
       "      <td>High</td>\n",
       "    </tr>\n",
       "    <tr>\n",
       "      <th>3</th>\n",
       "      <td>0.7</td>\n",
       "      <td>Medium</td>\n",
       "    </tr>\n",
       "    <tr>\n",
       "      <th>4</th>\n",
       "      <td>8.6</td>\n",
       "      <td>Medium</td>\n",
       "    </tr>\n",
       "    <tr>\n",
       "      <th>...</th>\n",
       "      <td>...</td>\n",
       "      <td>...</td>\n",
       "    </tr>\n",
       "    <tr>\n",
       "      <th>637</th>\n",
       "      <td>2.5</td>\n",
       "      <td>Low</td>\n",
       "    </tr>\n",
       "    <tr>\n",
       "      <th>638</th>\n",
       "      <td>0.3</td>\n",
       "      <td>High</td>\n",
       "    </tr>\n",
       "    <tr>\n",
       "      <th>639</th>\n",
       "      <td>0.3</td>\n",
       "      <td>Medium</td>\n",
       "    </tr>\n",
       "    <tr>\n",
       "      <th>640</th>\n",
       "      <td>1.3</td>\n",
       "      <td>Medium</td>\n",
       "    </tr>\n",
       "    <tr>\n",
       "      <th>641</th>\n",
       "      <td>0.5</td>\n",
       "      <td>High</td>\n",
       "    </tr>\n",
       "  </tbody>\n",
       "</table>\n",
       "<p>642 rows × 2 columns</p>\n",
       "</div>"
      ],
      "text/plain": [
       "     Days Priority\n",
       "0     3.3     High\n",
       "1     7.9   Medium\n",
       "2     0.3     High\n",
       "3     0.7   Medium\n",
       "4     8.6   Medium\n",
       "..    ...      ...\n",
       "637   2.5      Low\n",
       "638   0.3     High\n",
       "639   0.3   Medium\n",
       "640   1.3   Medium\n",
       "641   0.5     High\n",
       "\n",
       "[642 rows x 2 columns]"
      ]
     },
     "execution_count": 72,
     "metadata": {},
     "output_type": "execute_result"
    }
   ],
   "source": [
    "Priority_Assessment"
   ]
  },
  {
   "cell_type": "code",
   "execution_count": 74,
   "id": "c7d2df5b",
   "metadata": {},
   "outputs": [
    {
     "name": "stdout",
     "output_type": "stream",
     "text": [
      "<class 'pandas.core.frame.DataFrame'>\n",
      "RangeIndex: 642 entries, 0 to 641\n",
      "Data columns (total 2 columns):\n",
      " #   Column    Non-Null Count  Dtype  \n",
      "---  ------    --------------  -----  \n",
      " 0   Days      642 non-null    float64\n",
      " 1   Priority  642 non-null    object \n",
      "dtypes: float64(1), object(1)\n",
      "memory usage: 10.2+ KB\n"
     ]
    }
   ],
   "source": [
    "Priority_Assessment.info()"
   ]
  },
  {
   "cell_type": "code",
   "execution_count": 75,
   "id": "f8d0b0c4",
   "metadata": {},
   "outputs": [
    {
     "data": {
      "text/plain": [
       "Priority\n",
       "High      985.7\n",
       "Low       283.3\n",
       "Medium    622.5\n",
       "Name: Days, dtype: float64"
      ]
     },
     "execution_count": 75,
     "metadata": {},
     "output_type": "execute_result"
    }
   ],
   "source": [
    "Priority_Assessment.groupby('Priority').Days.sum()"
   ]
  },
  {
   "cell_type": "code",
   "execution_count": 76,
   "id": "64fa5564",
   "metadata": {},
   "outputs": [
    {
     "data": {
      "text/plain": [
       "High      326\n",
       "Medium    249\n",
       "Low        67\n",
       "Name: Priority, dtype: int64"
      ]
     },
     "execution_count": 76,
     "metadata": {},
     "output_type": "execute_result"
    }
   ],
   "source": [
    "Priority_Assessment.Priority.value_counts()"
   ]
  },
  {
   "cell_type": "markdown",
   "id": "6d39ea2e",
   "metadata": {},
   "source": [
    "Define null hypothesis - Ho: H0 = The new system is not working\n",
    "\n",
    "Define null hypothesis - Ha: Ha = The new system is working\n",
    "\n",
    "Define CI : CI - 95% p - 0.05\n",
    "\n",
    "Perform test: F-TEST | ANOVA"
   ]
  },
  {
   "cell_type": "code",
   "execution_count": 81,
   "id": "bcf13715",
   "metadata": {},
   "outputs": [],
   "source": [
    "A1= Priority_Assessment[Priority_Assessment.Priority=='High'].Days\n",
    "A2= Priority_Assessment[Priority_Assessment.Priority=='Medium'].Days\n",
    "A3= Priority_Assessment[Priority_Assessment.Priority=='Low'].Days"
   ]
  },
  {
   "cell_type": "code",
   "execution_count": 82,
   "id": "9cbb85b5",
   "metadata": {},
   "outputs": [
    {
     "data": {
      "text/plain": [
       "F_onewayResult(statistic=1.812311010076072, pvalue=0.16411459461716182)"
      ]
     },
     "execution_count": 82,
     "metadata": {},
     "output_type": "execute_result"
    }
   ],
   "source": [
    "stats.f_oneway(A1,A2,A3)"
   ]
  },
  {
   "cell_type": "markdown",
   "id": "8f91b2bb",
   "metadata": {},
   "source": [
    "Business Conclusion : \n",
    "New pvalue=0.16411459461716182\n",
    "\n",
    "Initial p-value < New p-value, So we'll ACCEPT Ho.\n",
    "\n",
    "From the above observation it can be said that the new system is not working."
   ]
  },
  {
   "cell_type": "markdown",
   "id": "867a3f05",
   "metadata": {},
   "source": [
    "### BUSINESS PROBLEM-5:"
   ]
  },
  {
   "cell_type": "code",
   "execution_count": 86,
   "id": "406af971",
   "metadata": {},
   "outputs": [
    {
     "data": {
      "text/html": [
       "<div>\n",
       "<style scoped>\n",
       "    .dataframe tbody tr th:only-of-type {\n",
       "        vertical-align: middle;\n",
       "    }\n",
       "\n",
       "    .dataframe tbody tr th {\n",
       "        vertical-align: top;\n",
       "    }\n",
       "\n",
       "    .dataframe thead th {\n",
       "        text-align: right;\n",
       "    }\n",
       "</style>\n",
       "<table border=\"1\" class=\"dataframe\">\n",
       "  <thead>\n",
       "    <tr style=\"text-align: right;\">\n",
       "      <th></th>\n",
       "      <th>_rowstate_</th>\n",
       "      <th>Movie</th>\n",
       "      <th>Gender</th>\n",
       "      <th>Marital_Status</th>\n",
       "      <th>Sinage</th>\n",
       "      <th>Parking</th>\n",
       "      <th>Clean</th>\n",
       "      <th>Overall</th>\n",
       "      <th>Age</th>\n",
       "      <th>Income</th>\n",
       "      <th>Hear_About</th>\n",
       "    </tr>\n",
       "  </thead>\n",
       "  <tbody>\n",
       "    <tr>\n",
       "      <th>0</th>\n",
       "      <td>0</td>\n",
       "      <td>Ferris Buellers Day Off</td>\n",
       "      <td>Female</td>\n",
       "      <td>Married</td>\n",
       "      <td>2.0</td>\n",
       "      <td>2.0</td>\n",
       "      <td>2.0</td>\n",
       "      <td>2.0</td>\n",
       "      <td>3.0</td>\n",
       "      <td>1.0</td>\n",
       "      <td>5</td>\n",
       "    </tr>\n",
       "    <tr>\n",
       "      <th>1</th>\n",
       "      <td>0</td>\n",
       "      <td>Ferris Buellers Day Off</td>\n",
       "      <td>Female</td>\n",
       "      <td>Single</td>\n",
       "      <td>1.0</td>\n",
       "      <td>1.0</td>\n",
       "      <td>1.0</td>\n",
       "      <td>1.0</td>\n",
       "      <td>2.0</td>\n",
       "      <td>1.0</td>\n",
       "      <td>5</td>\n",
       "    </tr>\n",
       "    <tr>\n",
       "      <th>2</th>\n",
       "      <td>0</td>\n",
       "      <td>Ferris Buellers Day Off</td>\n",
       "      <td>Male</td>\n",
       "      <td>Married</td>\n",
       "      <td>2.0</td>\n",
       "      <td>4.0</td>\n",
       "      <td>3.0</td>\n",
       "      <td>2.0</td>\n",
       "      <td>4.0</td>\n",
       "      <td>1.0</td>\n",
       "      <td>5</td>\n",
       "    </tr>\n",
       "    <tr>\n",
       "      <th>3</th>\n",
       "      <td>0</td>\n",
       "      <td>Ferris Buellers Day Off</td>\n",
       "      <td>Female</td>\n",
       "      <td>Married</td>\n",
       "      <td>1.0</td>\n",
       "      <td>3.0</td>\n",
       "      <td>2.0</td>\n",
       "      <td>2.0</td>\n",
       "      <td>4.0</td>\n",
       "      <td>1.0</td>\n",
       "      <td>5</td>\n",
       "    </tr>\n",
       "    <tr>\n",
       "      <th>4</th>\n",
       "      <td>0</td>\n",
       "      <td>Ferris Buellers Day Off</td>\n",
       "      <td>Female</td>\n",
       "      <td>Married</td>\n",
       "      <td>1.0</td>\n",
       "      <td>1.0</td>\n",
       "      <td>1.0</td>\n",
       "      <td>1.0</td>\n",
       "      <td>3.0</td>\n",
       "      <td>3.0</td>\n",
       "      <td>1</td>\n",
       "    </tr>\n",
       "    <tr>\n",
       "      <th>...</th>\n",
       "      <td>...</td>\n",
       "      <td>...</td>\n",
       "      <td>...</td>\n",
       "      <td>...</td>\n",
       "      <td>...</td>\n",
       "      <td>...</td>\n",
       "      <td>...</td>\n",
       "      <td>...</td>\n",
       "      <td>...</td>\n",
       "      <td>...</td>\n",
       "      <td>...</td>\n",
       "    </tr>\n",
       "    <tr>\n",
       "      <th>325</th>\n",
       "      <td>0</td>\n",
       "      <td>Old School</td>\n",
       "      <td>2</td>\n",
       "      <td>2</td>\n",
       "      <td>1.0</td>\n",
       "      <td>2.0</td>\n",
       "      <td>1.0</td>\n",
       "      <td>1.0</td>\n",
       "      <td>2.0</td>\n",
       "      <td>1.0</td>\n",
       "      <td>1</td>\n",
       "    </tr>\n",
       "    <tr>\n",
       "      <th>326</th>\n",
       "      <td>0</td>\n",
       "      <td>Old School</td>\n",
       "      <td>1</td>\n",
       "      <td>1</td>\n",
       "      <td>2.0</td>\n",
       "      <td>2.0</td>\n",
       "      <td>2.0</td>\n",
       "      <td>2.0</td>\n",
       "      <td>3.0</td>\n",
       "      <td>3.0</td>\n",
       "      <td>5</td>\n",
       "    </tr>\n",
       "    <tr>\n",
       "      <th>327</th>\n",
       "      <td>0</td>\n",
       "      <td>Old School</td>\n",
       "      <td>2</td>\n",
       "      <td>1</td>\n",
       "      <td>2.0</td>\n",
       "      <td>1.0</td>\n",
       "      <td>1.0</td>\n",
       "      <td>2.0</td>\n",
       "      <td>2.0</td>\n",
       "      <td>2.0</td>\n",
       "      <td>5</td>\n",
       "    </tr>\n",
       "    <tr>\n",
       "      <th>328</th>\n",
       "      <td>0</td>\n",
       "      <td>Old School</td>\n",
       "      <td>1</td>\n",
       "      <td>1</td>\n",
       "      <td>1.0</td>\n",
       "      <td>1.0</td>\n",
       "      <td>1.0</td>\n",
       "      <td>1.0</td>\n",
       "      <td>2.0</td>\n",
       "      <td>1.0</td>\n",
       "      <td>3</td>\n",
       "    </tr>\n",
       "    <tr>\n",
       "      <th>329</th>\n",
       "      <td>0</td>\n",
       "      <td>Old School</td>\n",
       "      <td>2</td>\n",
       "      <td>2</td>\n",
       "      <td>2.0</td>\n",
       "      <td>2.0</td>\n",
       "      <td>3.0</td>\n",
       "      <td>1.0</td>\n",
       "      <td>2.0</td>\n",
       "      <td>1.0</td>\n",
       "      <td>5</td>\n",
       "    </tr>\n",
       "  </tbody>\n",
       "</table>\n",
       "<p>330 rows × 11 columns</p>\n",
       "</div>"
      ],
      "text/plain": [
       "     _rowstate_                    Movie  Gender Marital_Status  Sinage  \\\n",
       "0             0  Ferris Buellers Day Off  Female        Married     2.0   \n",
       "1             0  Ferris Buellers Day Off  Female         Single     1.0   \n",
       "2             0  Ferris Buellers Day Off    Male        Married     2.0   \n",
       "3             0  Ferris Buellers Day Off  Female        Married     1.0   \n",
       "4             0  Ferris Buellers Day Off  Female        Married     1.0   \n",
       "..          ...                      ...     ...            ...     ...   \n",
       "325           0               Old School       2              2     1.0   \n",
       "326           0               Old School       1              1     2.0   \n",
       "327           0               Old School       2              1     2.0   \n",
       "328           0               Old School       1              1     1.0   \n",
       "329           0               Old School       2              2     2.0   \n",
       "\n",
       "     Parking  Clean  Overall  Age  Income Hear_About  \n",
       "0        2.0    2.0      2.0  3.0     1.0          5  \n",
       "1        1.0    1.0      1.0  2.0     1.0          5  \n",
       "2        4.0    3.0      2.0  4.0     1.0          5  \n",
       "3        3.0    2.0      2.0  4.0     1.0          5  \n",
       "4        1.0    1.0      1.0  3.0     3.0          1  \n",
       "..       ...    ...      ...  ...     ...        ...  \n",
       "325      2.0    1.0      1.0  2.0     1.0          1  \n",
       "326      2.0    2.0      2.0  3.0     3.0          5  \n",
       "327      1.0    1.0      2.0  2.0     2.0          5  \n",
       "328      1.0    1.0      1.0  2.0     1.0          3  \n",
       "329      2.0    3.0      1.0  2.0     1.0          5  \n",
       "\n",
       "[330 rows x 11 columns]"
      ]
     },
     "execution_count": 86,
     "metadata": {},
     "output_type": "execute_result"
    }
   ],
   "source": [
    "Films = pd.read_csv(r\"C:\\Users\\ADMIN\\Downloads\\Basic Statistics - Hypothesis Testing (1)\\Films.csv\")\n",
    "Films"
   ]
  },
  {
   "cell_type": "markdown",
   "id": "71035ef4",
   "metadata": {},
   "source": [
    "Use the survey results to address the following questions\n",
    "\n",
    "1.What is the overall level of customer satisfaction?\n",
    "\n",
    "2.What factors are linked to satisfaction?\n",
    "\n",
    "3.What is the demographic profile of Film on the Rocks patrons?\n",
    "\n",
    "4.In what media outlet(s) should the film series be advertised?\n"
   ]
  },
  {
   "cell_type": "code",
   "execution_count": 87,
   "id": "6a28fdbb",
   "metadata": {},
   "outputs": [
    {
     "name": "stdout",
     "output_type": "stream",
     "text": [
      "<class 'pandas.core.frame.DataFrame'>\n",
      "RangeIndex: 330 entries, 0 to 329\n",
      "Data columns (total 11 columns):\n",
      " #   Column          Non-Null Count  Dtype  \n",
      "---  ------          --------------  -----  \n",
      " 0   _rowstate_      330 non-null    int64  \n",
      " 1   Movie           330 non-null    object \n",
      " 2   Gender          330 non-null    object \n",
      " 3   Marital_Status  328 non-null    object \n",
      " 4   Sinage          328 non-null    float64\n",
      " 5   Parking         328 non-null    float64\n",
      " 6   Clean           327 non-null    float64\n",
      " 7   Overall         328 non-null    float64\n",
      " 8   Age             328 non-null    float64\n",
      " 9   Income          314 non-null    float64\n",
      " 10  Hear_About      323 non-null    object \n",
      "dtypes: float64(6), int64(1), object(4)\n",
      "memory usage: 28.5+ KB\n"
     ]
    }
   ],
   "source": [
    "Films.info()"
   ]
  },
  {
   "cell_type": "code",
   "execution_count": 88,
   "id": "e707a310",
   "metadata": {},
   "outputs": [
    {
     "data": {
      "text/plain": [
       "_rowstate_         0\n",
       "Movie              0\n",
       "Gender             0\n",
       "Marital_Status     2\n",
       "Sinage             2\n",
       "Parking            2\n",
       "Clean              3\n",
       "Overall            2\n",
       "Age                2\n",
       "Income            16\n",
       "Hear_About         7\n",
       "dtype: int64"
      ]
     },
     "execution_count": 88,
     "metadata": {},
     "output_type": "execute_result"
    }
   ],
   "source": [
    "Films.isna().sum()"
   ]
  },
  {
   "cell_type": "code",
   "execution_count": 90,
   "id": "cbd33a38",
   "metadata": {},
   "outputs": [
    {
     "data": {
      "text/plain": [
       "46"
      ]
     },
     "execution_count": 90,
     "metadata": {},
     "output_type": "execute_result"
    }
   ],
   "source": [
    "Films.duplicated().sum()"
   ]
  },
  {
   "cell_type": "markdown",
   "id": "d056de1c",
   "metadata": {},
   "source": [
    "NOTE:\n",
    "Gender- The patron’s gender: 1 = male; 2 = female\n",
    "\n",
    "Marital Status- The patron’s marital status: 1 = married; 2 = single\n",
    "\n",
    "Age- The patron’s age in years: 1= 1-12; 2 = 13-30; 3 = 31-60; 4 = 60+\n",
    "\n",
    "Income- The patron’s annual household income: 1 = Less than $50,000; 2 = $50-$100,000; 3 = $100,000+\n",
    "\n",
    "1 = Excellent; 2 = Good; 3 = Average/Fair; 4 = Poor; 5 = Very Poor."
   ]
  },
  {
   "cell_type": "code",
   "execution_count": 91,
   "id": "fa4cf40c",
   "metadata": {},
   "outputs": [],
   "source": [
    "Films.replace('Slngle','Single', inplace=True)"
   ]
  },
  {
   "cell_type": "code",
   "execution_count": 93,
   "id": "37e4d1aa",
   "metadata": {},
   "outputs": [],
   "source": [
    "Films.Gender.replace({'1':'Male', '2':'Female' }, inplace=True)\n",
    "\n",
    "Films.Marital_Status.replace({'1': 'Married', '2':'Single'}, inplace=True)"
   ]
  },
  {
   "cell_type": "code",
   "execution_count": 94,
   "id": "e776df17",
   "metadata": {},
   "outputs": [
    {
     "data": {
      "text/plain": [
       "Marital_Status\n",
       "Married    100\n",
       "Single     228\n",
       "Name: Gender, dtype: int64"
      ]
     },
     "execution_count": 94,
     "metadata": {},
     "output_type": "execute_result"
    }
   ],
   "source": [
    "Films.groupby(\"Marital_Status\").Gender.count()"
   ]
  },
  {
   "cell_type": "code",
   "execution_count": 95,
   "id": "7379ad6e",
   "metadata": {},
   "outputs": [],
   "source": [
    "Films.drop_duplicates(inplace=True)"
   ]
  },
  {
   "cell_type": "code",
   "execution_count": 103,
   "id": "805015fb",
   "metadata": {},
   "outputs": [
    {
     "data": {
      "text/html": [
       "<div>\n",
       "<style scoped>\n",
       "    .dataframe tbody tr th:only-of-type {\n",
       "        vertical-align: middle;\n",
       "    }\n",
       "\n",
       "    .dataframe tbody tr th {\n",
       "        vertical-align: top;\n",
       "    }\n",
       "\n",
       "    .dataframe thead th {\n",
       "        text-align: right;\n",
       "    }\n",
       "</style>\n",
       "<table border=\"1\" class=\"dataframe\">\n",
       "  <thead>\n",
       "    <tr style=\"text-align: right;\">\n",
       "      <th></th>\n",
       "      <th>_rowstate_</th>\n",
       "      <th>Movie</th>\n",
       "      <th>Gender</th>\n",
       "      <th>Marital_Status</th>\n",
       "      <th>Sinage</th>\n",
       "      <th>Parking</th>\n",
       "      <th>Clean</th>\n",
       "      <th>Overall</th>\n",
       "      <th>Age</th>\n",
       "      <th>Income</th>\n",
       "      <th>Hear_About</th>\n",
       "    </tr>\n",
       "  </thead>\n",
       "  <tbody>\n",
       "    <tr>\n",
       "      <th>0</th>\n",
       "      <td>0</td>\n",
       "      <td>Ferris Buellers Day Off</td>\n",
       "      <td>Female</td>\n",
       "      <td>Married</td>\n",
       "      <td>2.0</td>\n",
       "      <td>2.0</td>\n",
       "      <td>2.0</td>\n",
       "      <td>2.0</td>\n",
       "      <td>3.0</td>\n",
       "      <td>1.0</td>\n",
       "      <td>5</td>\n",
       "    </tr>\n",
       "    <tr>\n",
       "      <th>1</th>\n",
       "      <td>0</td>\n",
       "      <td>Ferris Buellers Day Off</td>\n",
       "      <td>Female</td>\n",
       "      <td>Single</td>\n",
       "      <td>1.0</td>\n",
       "      <td>1.0</td>\n",
       "      <td>1.0</td>\n",
       "      <td>1.0</td>\n",
       "      <td>2.0</td>\n",
       "      <td>1.0</td>\n",
       "      <td>5</td>\n",
       "    </tr>\n",
       "    <tr>\n",
       "      <th>2</th>\n",
       "      <td>0</td>\n",
       "      <td>Ferris Buellers Day Off</td>\n",
       "      <td>Male</td>\n",
       "      <td>Married</td>\n",
       "      <td>2.0</td>\n",
       "      <td>4.0</td>\n",
       "      <td>3.0</td>\n",
       "      <td>2.0</td>\n",
       "      <td>4.0</td>\n",
       "      <td>1.0</td>\n",
       "      <td>5</td>\n",
       "    </tr>\n",
       "    <tr>\n",
       "      <th>3</th>\n",
       "      <td>0</td>\n",
       "      <td>Ferris Buellers Day Off</td>\n",
       "      <td>Female</td>\n",
       "      <td>Married</td>\n",
       "      <td>1.0</td>\n",
       "      <td>3.0</td>\n",
       "      <td>2.0</td>\n",
       "      <td>2.0</td>\n",
       "      <td>4.0</td>\n",
       "      <td>1.0</td>\n",
       "      <td>5</td>\n",
       "    </tr>\n",
       "    <tr>\n",
       "      <th>4</th>\n",
       "      <td>0</td>\n",
       "      <td>Ferris Buellers Day Off</td>\n",
       "      <td>Female</td>\n",
       "      <td>Married</td>\n",
       "      <td>1.0</td>\n",
       "      <td>1.0</td>\n",
       "      <td>1.0</td>\n",
       "      <td>1.0</td>\n",
       "      <td>3.0</td>\n",
       "      <td>3.0</td>\n",
       "      <td>1</td>\n",
       "    </tr>\n",
       "  </tbody>\n",
       "</table>\n",
       "</div>"
      ],
      "text/plain": [
       "   _rowstate_                    Movie  Gender Marital_Status  Sinage  \\\n",
       "0           0  Ferris Buellers Day Off  Female        Married     2.0   \n",
       "1           0  Ferris Buellers Day Off  Female         Single     1.0   \n",
       "2           0  Ferris Buellers Day Off    Male        Married     2.0   \n",
       "3           0  Ferris Buellers Day Off  Female        Married     1.0   \n",
       "4           0  Ferris Buellers Day Off  Female        Married     1.0   \n",
       "\n",
       "   Parking  Clean  Overall  Age  Income Hear_About  \n",
       "0      2.0    2.0      2.0  3.0     1.0          5  \n",
       "1      1.0    1.0      1.0  2.0     1.0          5  \n",
       "2      4.0    3.0      2.0  4.0     1.0          5  \n",
       "3      3.0    2.0      2.0  4.0     1.0          5  \n",
       "4      1.0    1.0      1.0  3.0     3.0          1  "
      ]
     },
     "execution_count": 103,
     "metadata": {},
     "output_type": "execute_result"
    }
   ],
   "source": [
    "Films.head()"
   ]
  },
  {
   "cell_type": "markdown",
   "id": "ff01ff28",
   "metadata": {},
   "source": [
    "#### 1.What is the overall level of customer satisfaction?\n",
    "    observation: The overall level of Customer satisfaction was Good(268) and Excellent(131)."
   ]
  },
  {
   "cell_type": "code",
   "execution_count": 96,
   "id": "8bb240ff",
   "metadata": {},
   "outputs": [
    {
     "data": {
      "text/plain": [
       "Overall\n",
       "2.0    264.0\n",
       "1.0    128.0\n",
       "3.0     36.0\n",
       "5.0     20.0\n",
       "4.0      4.0\n",
       "Name: Overall, dtype: float64"
      ]
     },
     "execution_count": 96,
     "metadata": {},
     "output_type": "execute_result"
    }
   ],
   "source": [
    "Films.groupby(\"Overall\").Overall.sum().sort_values(ascending= False)"
   ]
  },
  {
   "cell_type": "code",
   "execution_count": 97,
   "id": "f5f1e7fe",
   "metadata": {},
   "outputs": [
    {
     "data": {
      "text/plain": [
       "<AxesSubplot:xlabel='Overall', ylabel='Count'>"
      ]
     },
     "execution_count": 97,
     "metadata": {},
     "output_type": "execute_result"
    },
    {
     "data": {
      "image/png": "[encoded data removed]",
      "text/plain": [
       "<Figure size 432x288 with 1 Axes>"
      ]
     },
     "metadata": {
      "needs_background": "light"
     },
     "output_type": "display_data"
    }
   ],
   "source": [
    "sns.histplot(Films.Overall)"
   ]
  },
  {
   "cell_type": "markdown",
   "id": "501e6f2f",
   "metadata": {},
   "source": [
    "### 2.What factors are linked to satisfaction?¶"
   ]
  },
  {
   "cell_type": "markdown",
   "id": "cccd5343",
   "metadata": {},
   "source": [
    "Define null hypothesis - Ho: Ho= There is no relationship between overall and other factors.\n",
    "\n",
    "Define alternative hypothesis - Ha: Ha= There is a relationship between overall and other factors..\n",
    "\n",
    "Define CI : CI = 95% , Initial p-value =0.05\n",
    "\n",
    "Perform test: Chi-Sq test."
   ]
  },
  {
   "cell_type": "code",
   "execution_count": 101,
   "id": "3d19b61e",
   "metadata": {},
   "outputs": [
    {
     "data": {
      "text/plain": [
       "(175.1310290555826,\n",
       " 7.950772886000052e-29,\n",
       " 16,\n",
       " array([[5.10144928e+01, 5.88985507e+01, 1.29855072e+01, 3.24637681e+00,\n",
       "         1.85507246e+00],\n",
       "        [5.22101449e+01, 6.02789855e+01, 1.32898551e+01, 3.32246377e+00,\n",
       "         1.89855072e+00],\n",
       "        [4.78260870e+00, 5.52173913e+00, 1.21739130e+00, 3.04347826e-01,\n",
       "         1.73913043e-01],\n",
       "        [3.98550725e-01, 4.60144928e-01, 1.01449275e-01, 2.53623188e-02,\n",
       "         1.44927536e-02],\n",
       "        [1.59420290e+00, 1.84057971e+00, 4.05797101e-01, 1.01449275e-01,\n",
       "         5.79710145e-02]]))"
      ]
     },
     "execution_count": 101,
     "metadata": {},
     "output_type": "execute_result"
    }
   ],
   "source": [
    "Observed1 =pd.crosstab(index=Films.Overall,columns=(Films.Parking))\n",
    "Observed1\n",
    "stats.chi2_contingency(Observed1)"
   ]
  },
  {
   "cell_type": "markdown",
   "id": "c99e0727",
   "metadata": {},
   "source": [
    "Since, Initial p-value(0.05) > New p-value(7.950772886000052e-29)\n",
    "\n",
    "Therefore, we'll REJECT Ho.\n",
    "\n",
    "So we can say that there is a relationship between OVERALL AND PARKING"
   ]
  },
  {
   "cell_type": "code",
   "execution_count": 100,
   "id": "65e413a8",
   "metadata": {},
   "outputs": [
    {
     "data": {
      "text/plain": [
       "(91.95404780514889,\n",
       " 1.0905192443500657e-12,\n",
       " 16,\n",
       " array([[4.09528986e+01, 6.07391304e+01, 2.02463768e+01, 2.76086957e+00,\n",
       "         2.30072464e+00],\n",
       "        [4.25652174e+01, 6.31304348e+01, 2.10434783e+01, 2.86956522e+00,\n",
       "         2.39130435e+00],\n",
       "        [3.86956522e+00, 5.73913043e+00, 1.91304348e+00, 2.60869565e-01,\n",
       "         2.17391304e-01],\n",
       "        [3.22463768e-01, 4.78260870e-01, 1.59420290e-01, 2.17391304e-02,\n",
       "         1.81159420e-02],\n",
       "        [1.28985507e+00, 1.91304348e+00, 6.37681159e-01, 8.69565217e-02,\n",
       "         7.24637681e-02]]))"
      ]
     },
     "execution_count": 100,
     "metadata": {},
     "output_type": "execute_result"
    }
   ],
   "source": [
    "Observed2 =pd.crosstab(index=Films.Overall,columns=(Films.Sinage))\n",
    "Observed2\n",
    "stats.chi2_contingency(Observed2)"
   ]
  },
  {
   "cell_type": "markdown",
   "id": "653cf060",
   "metadata": {},
   "source": [
    "Since, Initial p-value(0.05) > New p-value(1.0905192443500657e-12)\n",
    "\n",
    "Therefore, we'll REJECT Ho.\n",
    "\n",
    "So we can say that there is a relationship between OVERALL AND SINAGE."
   ]
  },
  {
   "cell_type": "code",
   "execution_count": 104,
   "id": "c6f4aeb0",
   "metadata": {},
   "outputs": [
    {
     "data": {
      "text/plain": [
       "(88.6676504071631,\n",
       " 4.399087983774725e-12,\n",
       " 16,\n",
       " array([[5.51884058e+01, 5.93623188e+01, 1.06666667e+01, 1.85507246e+00,\n",
       "         9.27536232e-01],\n",
       "        [5.64818841e+01, 6.07536232e+01, 1.09166667e+01, 1.89855072e+00,\n",
       "         9.49275362e-01],\n",
       "        [5.17391304e+00, 5.56521739e+00, 1.00000000e+00, 1.73913043e-01,\n",
       "         8.69565217e-02],\n",
       "        [4.31159420e-01, 4.63768116e-01, 8.33333333e-02, 1.44927536e-02,\n",
       "         7.24637681e-03],\n",
       "        [1.72463768e+00, 1.85507246e+00, 3.33333333e-01, 5.79710145e-02,\n",
       "         2.89855072e-02]]))"
      ]
     },
     "execution_count": 104,
     "metadata": {},
     "output_type": "execute_result"
    }
   ],
   "source": [
    "Observed3 =pd.crosstab(index=Films.Overall,columns=(Films.Clean))\n",
    "Observed3\n",
    "stats.chi2_contingency(Observed3)"
   ]
  },
  {
   "cell_type": "markdown",
   "id": "33da7a25",
   "metadata": {},
   "source": [
    "Since, Initial p-value(0.05) > New p-value( 4.399087983774725e-12)\n",
    "\n",
    "Therefore, we'll REJECT Ho.\n",
    "\n",
    "So we can say that there is a relationship between OVERALL AND CLEAN."
   ]
  },
  {
   "cell_type": "markdown",
   "id": "3d4e9f13",
   "metadata": {},
   "source": [
    "From the above 3 results it is observed that using Chi_square--there is a strong relationship between OVERALL and ALL OF THEM (PARKING, CLEAN, SINAGE), which is affecting the overall satisfaction level."
   ]
  },
  {
   "cell_type": "markdown",
   "id": "08d56c26",
   "metadata": {},
   "source": [
    "#### 3. What is the demographic profile of Film on the Rocks patrons?"
   ]
  },
  {
   "cell_type": "code",
   "execution_count": 105,
   "id": "95ff9759",
   "metadata": {},
   "outputs": [
    {
     "data": {
      "text/plain": [
       "Gender\n",
       "Female    175\n",
       "Male      102\n",
       "Name: Overall, dtype: int64"
      ]
     },
     "execution_count": 105,
     "metadata": {},
     "output_type": "execute_result"
    }
   ],
   "source": [
    "Films.groupby(\"Gender\").Overall.count().sort_values(ascending=False)"
   ]
  },
  {
   "cell_type": "code",
   "execution_count": 106,
   "id": "b55d505d",
   "metadata": {},
   "outputs": [
    {
     "name": "stdout",
     "output_type": "stream",
     "text": [
      "62.76595744680851\n"
     ]
    }
   ],
   "source": [
    "Female_Percentage=(177/(177+105))*100\n",
    "print(Female_Percentage)"
   ]
  },
  {
   "cell_type": "code",
   "execution_count": 107,
   "id": "4176284b",
   "metadata": {},
   "outputs": [
    {
     "data": {
      "text/plain": [
       "Marital_Status\n",
       "Single     188\n",
       "Married     87\n",
       "Name: Overall, dtype: int64"
      ]
     },
     "execution_count": 107,
     "metadata": {},
     "output_type": "execute_result"
    }
   ],
   "source": [
    "Films.groupby(\"Marital_Status\").Overall.count().sort_values(ascending=False)"
   ]
  },
  {
   "cell_type": "code",
   "execution_count": 108,
   "id": "3a213608",
   "metadata": {},
   "outputs": [
    {
     "name": "stdout",
     "output_type": "stream",
     "text": [
      "68.21428571428572\n"
     ]
    }
   ],
   "source": [
    "Single_Percentage= (191/(191+89))*100\n",
    "print(Single_Percentage)"
   ]
  },
  {
   "cell_type": "code",
   "execution_count": 109,
   "id": "c8c01dec",
   "metadata": {},
   "outputs": [
    {
     "data": {
      "text/plain": [
       "Age\n",
       "2.0    140\n",
       "3.0    103\n",
       "1.0     22\n",
       "4.0     10\n",
       "Name: Overall, dtype: int64"
      ]
     },
     "execution_count": 109,
     "metadata": {},
     "output_type": "execute_result"
    }
   ],
   "source": [
    "# The patron’s age in years: 1= 1-12; 2 = 13-30; 3 = 31-60; 4 = 60+\n",
    "Films.groupby(\"Age\").Overall.count().sort_values(ascending=False)"
   ]
  },
  {
   "cell_type": "code",
   "execution_count": 110,
   "id": "b7520414",
   "metadata": {},
   "outputs": [
    {
     "data": {
      "text/plain": [
       "Income\n",
       "1.0    114\n",
       "3.0     76\n",
       "2.0     74\n",
       "Name: Overall, dtype: int64"
      ]
     },
     "execution_count": 110,
     "metadata": {},
     "output_type": "execute_result"
    }
   ],
   "source": [
    "# The patron’s annual household income: 1 = Less than $50,000; 2 = $50- $100,000; 3 = $100,000+\n",
    "Films.groupby(\"Income\").Overall.count().sort_values(ascending=False)"
   ]
  },
  {
   "cell_type": "markdown",
   "id": "8cdc0c0f",
   "metadata": {},
   "source": [
    "The demographic profile of Film on the Rocks patrons are:\n",
    "1. There are 62.7% of FEMALES profiles of Film on the Rocks patrons\n",
    "\n",
    "2. There are 68.2% of SINGLE profiles of Film on the Rocks patrons\n",
    "\n",
    "3. Most people are from Age group 2.0 i.e.(13-30) in the profiles of Film on the Rocks patrons\n",
    "\n",
    "4. Most people have income group of 1.0 i.e.(>50,000) in the profiles of Film on the Rocks patrons"
   ]
  },
  {
   "cell_type": "markdown",
   "id": "4d3a6d1e",
   "metadata": {},
   "source": [
    "### 4.In what media outlet(s) should the film series be advertised?"
   ]
  },
  {
   "cell_type": "code",
   "execution_count": 111,
   "id": "b62d56e6",
   "metadata": {},
   "outputs": [
    {
     "data": {
      "text/html": [
       "<div>\n",
       "<style scoped>\n",
       "    .dataframe tbody tr th:only-of-type {\n",
       "        vertical-align: middle;\n",
       "    }\n",
       "\n",
       "    .dataframe tbody tr th {\n",
       "        vertical-align: top;\n",
       "    }\n",
       "\n",
       "    .dataframe thead th {\n",
       "        text-align: right;\n",
       "    }\n",
       "</style>\n",
       "<table border=\"1\" class=\"dataframe\">\n",
       "  <thead>\n",
       "    <tr style=\"text-align: right;\">\n",
       "      <th></th>\n",
       "      <th>_rowstate_</th>\n",
       "      <th>Movie</th>\n",
       "      <th>Gender</th>\n",
       "      <th>Marital_Status</th>\n",
       "      <th>Sinage</th>\n",
       "      <th>Parking</th>\n",
       "      <th>Clean</th>\n",
       "      <th>Overall</th>\n",
       "      <th>Age</th>\n",
       "      <th>Income</th>\n",
       "      <th>Hear_About</th>\n",
       "    </tr>\n",
       "  </thead>\n",
       "  <tbody>\n",
       "    <tr>\n",
       "      <th>0</th>\n",
       "      <td>0</td>\n",
       "      <td>Ferris Buellers Day Off</td>\n",
       "      <td>Female</td>\n",
       "      <td>Married</td>\n",
       "      <td>2.0</td>\n",
       "      <td>2.0</td>\n",
       "      <td>2.0</td>\n",
       "      <td>2.0</td>\n",
       "      <td>3.0</td>\n",
       "      <td>1.0</td>\n",
       "      <td>5</td>\n",
       "    </tr>\n",
       "    <tr>\n",
       "      <th>1</th>\n",
       "      <td>0</td>\n",
       "      <td>Ferris Buellers Day Off</td>\n",
       "      <td>Female</td>\n",
       "      <td>Single</td>\n",
       "      <td>1.0</td>\n",
       "      <td>1.0</td>\n",
       "      <td>1.0</td>\n",
       "      <td>1.0</td>\n",
       "      <td>2.0</td>\n",
       "      <td>1.0</td>\n",
       "      <td>5</td>\n",
       "    </tr>\n",
       "    <tr>\n",
       "      <th>2</th>\n",
       "      <td>0</td>\n",
       "      <td>Ferris Buellers Day Off</td>\n",
       "      <td>Male</td>\n",
       "      <td>Married</td>\n",
       "      <td>2.0</td>\n",
       "      <td>4.0</td>\n",
       "      <td>3.0</td>\n",
       "      <td>2.0</td>\n",
       "      <td>4.0</td>\n",
       "      <td>1.0</td>\n",
       "      <td>5</td>\n",
       "    </tr>\n",
       "    <tr>\n",
       "      <th>3</th>\n",
       "      <td>0</td>\n",
       "      <td>Ferris Buellers Day Off</td>\n",
       "      <td>Female</td>\n",
       "      <td>Married</td>\n",
       "      <td>1.0</td>\n",
       "      <td>3.0</td>\n",
       "      <td>2.0</td>\n",
       "      <td>2.0</td>\n",
       "      <td>4.0</td>\n",
       "      <td>1.0</td>\n",
       "      <td>5</td>\n",
       "    </tr>\n",
       "    <tr>\n",
       "      <th>4</th>\n",
       "      <td>0</td>\n",
       "      <td>Ferris Buellers Day Off</td>\n",
       "      <td>Female</td>\n",
       "      <td>Married</td>\n",
       "      <td>1.0</td>\n",
       "      <td>1.0</td>\n",
       "      <td>1.0</td>\n",
       "      <td>1.0</td>\n",
       "      <td>3.0</td>\n",
       "      <td>3.0</td>\n",
       "      <td>1</td>\n",
       "    </tr>\n",
       "  </tbody>\n",
       "</table>\n",
       "</div>"
      ],
      "text/plain": [
       "   _rowstate_                    Movie  Gender Marital_Status  Sinage  \\\n",
       "0           0  Ferris Buellers Day Off  Female        Married     2.0   \n",
       "1           0  Ferris Buellers Day Off  Female         Single     1.0   \n",
       "2           0  Ferris Buellers Day Off    Male        Married     2.0   \n",
       "3           0  Ferris Buellers Day Off  Female        Married     1.0   \n",
       "4           0  Ferris Buellers Day Off  Female        Married     1.0   \n",
       "\n",
       "   Parking  Clean  Overall  Age  Income Hear_About  \n",
       "0      2.0    2.0      2.0  3.0     1.0          5  \n",
       "1      1.0    1.0      1.0  2.0     1.0          5  \n",
       "2      4.0    3.0      2.0  4.0     1.0          5  \n",
       "3      3.0    2.0      2.0  4.0     1.0          5  \n",
       "4      1.0    1.0      1.0  3.0     3.0          1  "
      ]
     },
     "execution_count": 111,
     "metadata": {},
     "output_type": "execute_result"
    }
   ],
   "source": [
    "Films.head()"
   ]
  },
  {
   "cell_type": "code",
   "execution_count": 112,
   "id": "a93a2dfc",
   "metadata": {},
   "outputs": [],
   "source": [
    "# 1 = television; 2 = newspaper; 3 = radio; 4 = website; 5 = word of mouth"
   ]
  },
  {
   "cell_type": "code",
   "execution_count": 115,
   "id": "641ae439",
   "metadata": {},
   "outputs": [
    {
     "data": {
      "text/plain": [
       "Hear_About\n",
       "1       22\n",
       "1,5      1\n",
       "2       12\n",
       "2,5      2\n",
       "3       12\n",
       "3,4      2\n",
       "3,5      1\n",
       "4       38\n",
       "4,5      1\n",
       "5      180\n",
       "5,4      1\n",
       "Name: Hear_About, dtype: int64"
      ]
     },
     "execution_count": 115,
     "metadata": {},
     "output_type": "execute_result"
    }
   ],
   "source": [
    "Films.groupby(\"Hear_About\")['Hear_About'].count()"
   ]
  },
  {
   "cell_type": "code",
   "execution_count": 117,
   "id": "c3d091ce",
   "metadata": {},
   "outputs": [],
   "source": [
    "Films.Hear_About.replace({'1,5':'5','2,5':'5', '3,4':'5','3,5':'5', '4,5':'5','5,4':'5'}, inplace=True)"
   ]
  },
  {
   "cell_type": "code",
   "execution_count": 118,
   "id": "7fb43ef1",
   "metadata": {},
   "outputs": [],
   "source": [
    "Films.Hear_About=Films.Hear_About.astype(\"float64\")"
   ]
  },
  {
   "cell_type": "code",
   "execution_count": 119,
   "id": "eb01a746",
   "metadata": {},
   "outputs": [
    {
     "data": {
      "text/plain": [
       "Hear_About\n",
       "5.0    188\n",
       "4.0     38\n",
       "1.0     22\n",
       "2.0     12\n",
       "3.0     12\n",
       "Name: Hear_About, dtype: int64"
      ]
     },
     "execution_count": 119,
     "metadata": {},
     "output_type": "execute_result"
    }
   ],
   "source": [
    "Films.groupby(\"Hear_About\").Hear_About.count().sort_values(ascending= False)"
   ]
  },
  {
   "cell_type": "code",
   "execution_count": 120,
   "id": "51feca43",
   "metadata": {},
   "outputs": [
    {
     "data": {
      "text/plain": [
       "<AxesSubplot:xlabel='Hear_About', ylabel='Count'>"
      ]
     },
     "execution_count": 120,
     "metadata": {},
     "output_type": "execute_result"
    },
    {
     "data": {
      "image/png": "[encoded data removed]",
      "text/plain": [
       "<Figure size 432x288 with 1 Axes>"
      ]
     },
     "metadata": {
      "needs_background": "light"
     },
     "output_type": "display_data"
    }
   ],
   "source": [
    "sns.histplot(Films.Hear_About)"
   ]
  },
  {
   "cell_type": "markdown",
   "id": "f3995451",
   "metadata": {},
   "source": [
    "##### 1 = television; 2 = newspaper; 3 = radio; 4 = website; 5 = word of mouth"
   ]
  },
  {
   "cell_type": "markdown",
   "id": "a1cff5b7",
   "metadata": {},
   "source": [
    "Conclusion: Word of mouth as 5.0 is highest one but it does not come under media outlet\n",
    "\n",
    "So, we will go with the second one which is 4.0 i.e. WEBSITE\n",
    "\n",
    "Therefore, film series should be advertised mainly through WEBSITE media outlet."
   ]
  },
  {
   "cell_type": "code",
   "execution_count": null,
   "id": "1ac32187",
   "metadata": {},
   "outputs": [],
   "source": []
  }
 ],
 "metadata": {
  "kernelspec": {
   "display_name": "Python 3 (ipykernel)",
   "language": "python",
   "name": "python3"
  },
  "language_info": {
   "codemirror_mode": {
    "name": "ipython",
    "version": 3
   },
   "file_extension": ".py",
   "mimetype": "text/x-python",
   "name": "python",
   "nbconvert_exporter": "python",
   "pygments_lexer": "ipython3",
   "version": "3.9.12"
  }
 },
 "nbformat": 4,
 "nbformat_minor": 5
}
